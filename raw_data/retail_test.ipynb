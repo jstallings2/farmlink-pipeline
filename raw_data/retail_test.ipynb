{
 "metadata": {
  "language_info": {
   "codemirror_mode": {
    "name": "ipython",
    "version": 3
   },
   "file_extension": ".py",
   "mimetype": "text/x-python",
   "name": "python",
   "nbconvert_exporter": "python",
   "pygments_lexer": "ipython3",
   "version": "3.8.5-final"
  },
  "orig_nbformat": 2,
  "kernelspec": {
   "name": "python3",
   "display_name": "Python 3",
   "language": "python"
  }
 },
 "nbformat": 4,
 "nbformat_minor": 2,
 "cells": [
  {
   "cell_type": "code",
   "execution_count": 4,
   "metadata": {},
   "outputs": [],
   "source": [
    "import pandas as pd "
   ]
  },
  {
   "cell_type": "code",
   "execution_count": 10,
   "metadata": {},
   "outputs": [],
   "source": [
    "test_df = pd.read_csv('./NORTHEAST+U.S._CARROTS_ALL.csv', parse_dates=True)"
   ]
  },
  {
   "cell_type": "code",
   "execution_count": 11,
   "metadata": {},
   "outputs": [
    {
     "output_type": "execute_result",
     "data": {
      "text/plain": [
       "     Unnamed: 0        Date          Region       Class Commodity  \\\n",
       "0             0  01/04/2019  NORTHEAST U.S.  VEGETABLES   CARROTS   \n",
       "1             1  01/04/2019  NORTHEAST U.S.  VEGETABLES   CARROTS   \n",
       "2             2  01/04/2019  NORTHEAST U.S.  VEGETABLES   CARROTS   \n",
       "3             3  01/04/2019  NORTHEAST U.S.  VEGETABLES   CARROTS   \n",
       "4             4  01/04/2019  NORTHEAST U.S.  VEGETABLES   CARROTS   \n",
       "..          ...         ...             ...         ...       ...   \n",
       "798         798  12/18/2020  NORTHEAST U.S.  VEGETABLES   CARROTS   \n",
       "799         799  12/18/2020  NORTHEAST U.S.  VEGETABLES   CARROTS   \n",
       "800         800  12/18/2020  NORTHEAST U.S.  VEGETABLES   CARROTS   \n",
       "801         801  12/18/2020  NORTHEAST U.S.  VEGETABLES   CARROTS   \n",
       "802         802         NaN             NaN         NaN       NaN   \n",
       "\n",
       "         Variety Organic  Environment       Unit  Number of Stores  \\\n",
       "0            NaN     NaN          NaN   1 lb bag              82.0   \n",
       "1            NaN     NaN          NaN   2 lb bag             276.0   \n",
       "2            NaN     NaN          NaN  per bunch               7.0   \n",
       "3            NaN     NaN          NaN  per pound               2.0   \n",
       "4            NaN       Y          NaN   1 lb bag              28.0   \n",
       "..           ...     ...          ...        ...               ...   \n",
       "798          NaN       Y          NaN  per bunch              28.0   \n",
       "799  BABY PEELED     NaN          NaN   1 lb bag             684.0   \n",
       "800  BABY PEELED     NaN          NaN   2 lb bag             504.0   \n",
       "801  BABY PEELED       Y          NaN   1 lb bag             323.0   \n",
       "802          NaN     NaN          NaN        NaN               NaN   \n",
       "\n",
       "     Weighted Avg Price  Low Price  High Price  % Marked Local  \n",
       "0                  0.66       0.59        0.89             NaN  \n",
       "1                  1.46       0.99        1.50             NaN  \n",
       "2                  0.99       0.99        0.99             NaN  \n",
       "3                  0.48       0.48        0.48             NaN  \n",
       "4                  1.50       1.50        1.50             NaN  \n",
       "..                  ...        ...         ...             ...  \n",
       "798                2.50       2.50        2.50             NaN  \n",
       "799                1.21       0.88        1.50             NaN  \n",
       "800                2.11       1.89        3.00             NaN  \n",
       "801                2.39       1.88        2.50             NaN  \n",
       "802                 NaN        NaN         NaN             NaN  \n",
       "\n",
       "[803 rows x 14 columns]"
      ],
      "text/html": "<div>\n<style scoped>\n    .dataframe tbody tr th:only-of-type {\n        vertical-align: middle;\n    }\n\n    .dataframe tbody tr th {\n        vertical-align: top;\n    }\n\n    .dataframe thead th {\n        text-align: right;\n    }\n</style>\n<table border=\"1\" class=\"dataframe\">\n  <thead>\n    <tr style=\"text-align: right;\">\n      <th></th>\n      <th>Unnamed: 0</th>\n      <th>Date</th>\n      <th>Region</th>\n      <th>Class</th>\n      <th>Commodity</th>\n      <th>Variety</th>\n      <th>Organic</th>\n      <th>Environment</th>\n      <th>Unit</th>\n      <th>Number of Stores</th>\n      <th>Weighted Avg Price</th>\n      <th>Low Price</th>\n      <th>High Price</th>\n      <th>% Marked Local</th>\n    </tr>\n  </thead>\n  <tbody>\n    <tr>\n      <th>0</th>\n      <td>0</td>\n      <td>01/04/2019</td>\n      <td>NORTHEAST U.S.</td>\n      <td>VEGETABLES</td>\n      <td>CARROTS</td>\n      <td>NaN</td>\n      <td>NaN</td>\n      <td>NaN</td>\n      <td>1 lb bag</td>\n      <td>82.0</td>\n      <td>0.66</td>\n      <td>0.59</td>\n      <td>0.89</td>\n      <td>NaN</td>\n    </tr>\n    <tr>\n      <th>1</th>\n      <td>1</td>\n      <td>01/04/2019</td>\n      <td>NORTHEAST U.S.</td>\n      <td>VEGETABLES</td>\n      <td>CARROTS</td>\n      <td>NaN</td>\n      <td>NaN</td>\n      <td>NaN</td>\n      <td>2 lb bag</td>\n      <td>276.0</td>\n      <td>1.46</td>\n      <td>0.99</td>\n      <td>1.50</td>\n      <td>NaN</td>\n    </tr>\n    <tr>\n      <th>2</th>\n      <td>2</td>\n      <td>01/04/2019</td>\n      <td>NORTHEAST U.S.</td>\n      <td>VEGETABLES</td>\n      <td>CARROTS</td>\n      <td>NaN</td>\n      <td>NaN</td>\n      <td>NaN</td>\n      <td>per bunch</td>\n      <td>7.0</td>\n      <td>0.99</td>\n      <td>0.99</td>\n      <td>0.99</td>\n      <td>NaN</td>\n    </tr>\n    <tr>\n      <th>3</th>\n      <td>3</td>\n      <td>01/04/2019</td>\n      <td>NORTHEAST U.S.</td>\n      <td>VEGETABLES</td>\n      <td>CARROTS</td>\n      <td>NaN</td>\n      <td>NaN</td>\n      <td>NaN</td>\n      <td>per pound</td>\n      <td>2.0</td>\n      <td>0.48</td>\n      <td>0.48</td>\n      <td>0.48</td>\n      <td>NaN</td>\n    </tr>\n    <tr>\n      <th>4</th>\n      <td>4</td>\n      <td>01/04/2019</td>\n      <td>NORTHEAST U.S.</td>\n      <td>VEGETABLES</td>\n      <td>CARROTS</td>\n      <td>NaN</td>\n      <td>Y</td>\n      <td>NaN</td>\n      <td>1 lb bag</td>\n      <td>28.0</td>\n      <td>1.50</td>\n      <td>1.50</td>\n      <td>1.50</td>\n      <td>NaN</td>\n    </tr>\n    <tr>\n      <th>...</th>\n      <td>...</td>\n      <td>...</td>\n      <td>...</td>\n      <td>...</td>\n      <td>...</td>\n      <td>...</td>\n      <td>...</td>\n      <td>...</td>\n      <td>...</td>\n      <td>...</td>\n      <td>...</td>\n      <td>...</td>\n      <td>...</td>\n      <td>...</td>\n    </tr>\n    <tr>\n      <th>798</th>\n      <td>798</td>\n      <td>12/18/2020</td>\n      <td>NORTHEAST U.S.</td>\n      <td>VEGETABLES</td>\n      <td>CARROTS</td>\n      <td>NaN</td>\n      <td>Y</td>\n      <td>NaN</td>\n      <td>per bunch</td>\n      <td>28.0</td>\n      <td>2.50</td>\n      <td>2.50</td>\n      <td>2.50</td>\n      <td>NaN</td>\n    </tr>\n    <tr>\n      <th>799</th>\n      <td>799</td>\n      <td>12/18/2020</td>\n      <td>NORTHEAST U.S.</td>\n      <td>VEGETABLES</td>\n      <td>CARROTS</td>\n      <td>BABY PEELED</td>\n      <td>NaN</td>\n      <td>NaN</td>\n      <td>1 lb bag</td>\n      <td>684.0</td>\n      <td>1.21</td>\n      <td>0.88</td>\n      <td>1.50</td>\n      <td>NaN</td>\n    </tr>\n    <tr>\n      <th>800</th>\n      <td>800</td>\n      <td>12/18/2020</td>\n      <td>NORTHEAST U.S.</td>\n      <td>VEGETABLES</td>\n      <td>CARROTS</td>\n      <td>BABY PEELED</td>\n      <td>NaN</td>\n      <td>NaN</td>\n      <td>2 lb bag</td>\n      <td>504.0</td>\n      <td>2.11</td>\n      <td>1.89</td>\n      <td>3.00</td>\n      <td>NaN</td>\n    </tr>\n    <tr>\n      <th>801</th>\n      <td>801</td>\n      <td>12/18/2020</td>\n      <td>NORTHEAST U.S.</td>\n      <td>VEGETABLES</td>\n      <td>CARROTS</td>\n      <td>BABY PEELED</td>\n      <td>Y</td>\n      <td>NaN</td>\n      <td>1 lb bag</td>\n      <td>323.0</td>\n      <td>2.39</td>\n      <td>1.88</td>\n      <td>2.50</td>\n      <td>NaN</td>\n    </tr>\n    <tr>\n      <th>802</th>\n      <td>802</td>\n      <td>NaN</td>\n      <td>NaN</td>\n      <td>NaN</td>\n      <td>NaN</td>\n      <td>NaN</td>\n      <td>NaN</td>\n      <td>NaN</td>\n      <td>NaN</td>\n      <td>NaN</td>\n      <td>NaN</td>\n      <td>NaN</td>\n      <td>NaN</td>\n      <td>NaN</td>\n    </tr>\n  </tbody>\n</table>\n<p>803 rows × 14 columns</p>\n</div>"
     },
     "metadata": {},
     "execution_count": 11
    }
   ],
   "source": [
    "test_df"
   ]
  },
  {
   "cell_type": "code",
   "execution_count": null,
   "metadata": {},
   "outputs": [],
   "source": []
  }
 ]
}