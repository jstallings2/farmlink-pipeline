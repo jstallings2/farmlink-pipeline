{
 "metadata": {
  "language_info": {
   "codemirror_mode": {
    "name": "ipython",
    "version": 3
   },
   "file_extension": ".py",
   "mimetype": "text/x-python",
   "name": "python",
   "nbconvert_exporter": "python",
   "pygments_lexer": "ipython3",
   "version": "3.8.5-final"
  },
  "orig_nbformat": 2,
  "kernelspec": {
   "name": "python3",
   "display_name": "Python 3.8.5 64-bit ('base': conda)",
   "metadata": {
    "interpreter": {
     "hash": "dca0ade3e726a953b501b15e8e990130d2b7799f14cfd9f4271676035ebe5511"
    }
   }
  }
 },
 "nbformat": 4,
 "nbformat_minor": 2,
 "cells": [
  {
   "source": [
    "Test notebook for working on a function to automatically scrape the latest CPI data\n",
    "\n",
    "Source we will scrape from is https://fred.stlouisfed.org/series/CPIAUCNS"
   ],
   "cell_type": "markdown",
   "metadata": {}
  },
  {
   "cell_type": "code",
   "execution_count": 23,
   "metadata": {},
   "outputs": [],
   "source": [
    "import requests\n",
    "from datetime import datetime\n",
    "import os\n",
    "import sys\n",
    "import pandas as pd\n",
    "\n",
    "date = datetime.now().strftime('%Y-%m-%d')\n",
    "\n",
    "url = 'https://fred.stlouisfed.org/graph/fredgraph.csv?bgcolor=%23e1e9f0&chart_type=line&drp=0&fo=open%20sans&graph_bgcolor=%23ffffff&height=450&mode=fred&recession_bars=on&txtcolor=%23444444&ts=12&tts=12&width=748&nt=0&thu=0&trc=0&show_legend=yes&show_axis_titles=yes&show_tooltip=yes&id=CPIAUCNS&scale=left&cosd=1913-01-01&coed='+date+'&line_color=%234572a7&link_values=false&line_style=solid&mark_type=none&mw=3&lw=2&ost=-99999&oet=99999&mma=0&fml=a&fq=Monthly&fam=avg&fgst=lin&fgsnd=2020-02-01&line_index=1&transformation=lin&vintage_date=2021-03-24&revision_date=2021-03-24&nd=1913-01-01'\n",
    "\n",
    "\n"
   ]
  },
  {
   "cell_type": "code",
   "execution_count": 24,
   "metadata": {},
   "outputs": [],
   "source": [
    "try:\n",
    "    r = requests.get(url, allow_redirects=True, timeout=300)\n",
    "    open('raw_data/CPI_DATA.csv', 'wb').write(r.content)\n",
    "except requests.exceptions.Timeout:\n",
    "    print('request timed out, trying again...')\n",
    "    try:\n",
    "        r = requests.get(url, allow_redirects=True, timeout=300)\n",
    "        open('raw_data/CPI_DATA.csv', 'wb').write(r.content)\n",
    "    except requests.exceptions.Timeout:\n",
    "        print('request timed out again, exiting...')\n",
    "        sys.exit()"
   ]
  },
  {
   "cell_type": "code",
   "execution_count": null,
   "metadata": {},
   "outputs": [],
   "source": [
    "# Packaging in a function\n",
    "def get_latest_cpi():\n",
    "    date = datetime.now().strftime('%Y-%m-%d')\n",
    "\n",
    "    url = 'https://fred.stlouisfed.org/graph/fredgraph.csv?bgcolor=%23e1e9f0&chart_type=line&drp=0&fo=open%20sans&graph_bgcolor=%23ffffff&height=450&mode=fred&recession_bars=on&txtcolor=%23444444&ts=12&tts=12&width=748&nt=0&thu=0&trc=0&show_legend=yes&show_axis_titles=yes&show_tooltip=yes&id=CPIAUCNS&scale=left&cosd=1913-01-01&coed='+date+'&line_color=%234572a7&link_values=false&line_style=solid&mark_type=none&mw=3&lw=2&ost=-99999&oet=99999&mma=0&fml=a&fq=Monthly&fam=avg&fgst=lin&fgsnd=2020-02-01&line_index=1&transformation=lin&vintage_date=2021-03-24&revision_date=2021-03-24&nd=1913-01-01'\n",
    "\n",
    "`   try:\n",
    "    r = requests.get(url, allow_redirects=True, timeout=300)\n",
    "    return r.content\n",
    "except requests.exceptions.Timeout:\n",
    "    print('request timed out, trying again...')\n",
    "    try:\n",
    "        r = requests.get(url, allow_redirects=True, timeout=300)\n",
    "        return r.content\n",
    "    except requests.exceptions.Timeout:\n",
    "        print('request timed out again, exiting...')\n",
    "        print('Error getting CPI')\n",
    "        sys.exit()"
   ]
  }
 ]
}