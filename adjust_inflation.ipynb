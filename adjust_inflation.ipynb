{
 "cells": [
  {
   "cell_type": "code",
   "execution_count": 23,
   "metadata": {},
   "outputs": [
    {
     "output_type": "execute_result",
     "data": {
      "text/plain": [
       "\"adjust average prices for inflation using the CPI\\nstores results in 'IA Average Price' column\\nadjusts relative to last date - i.e. 2018 dollars throughout\\n\""
      ]
     },
     "metadata": {},
     "execution_count": 23
    }
   ],
   "source": [
    "\"\"\"adjust average prices for inflation using the CPI\n",
    "stores results in 'IA Average Price' column\n",
    "adjusts relative to last date - i.e. 2018 dollars throughout\n",
    "\"\"\""
   ]
  },
  {
   "cell_type": "code",
   "execution_count": 24,
   "metadata": {},
   "outputs": [],
   "source": [
    "import fbprophet as fp\n",
    "import pandas as pd\n",
    "import numpy as np\n",
    "from matplotlib import pyplot as plt\n",
    "import seaborn as sns\n",
    "import pickle\n",
    "from sklearn.model_selection import RandomizedSearchCV\n",
    "sns.set_style(\"darkgrid\")\n",
    "import time\n",
    "import math\n",
    "from fbprophet.diagnostics import cross_validation\n",
    "from fbprophet.diagnostics import performance_metrics\n",
    "import random"
   ]
  },
  {
   "cell_type": "code",
   "execution_count": 25,
   "metadata": {},
   "outputs": [],
   "source": [
    "# veggie and city data\n",
    "datadir = './concat_data/'\n",
    "veggienames = ['APPLES','CARROTS']\n",
    "regions = ['NORTHEAST+U.S.', 'SOUTHWEST+U.S.']"
   ]
  },
  {
   "cell_type": "code",
   "execution_count": 26,
   "metadata": {},
   "outputs": [],
   "source": [
    "def load_and_clean(region, veg, dir='./concat_data/'):\n",
    "    filepath = dir + region + \"_\" + veg + \"_ALL.csv\"\n",
    "    try:\n",
    "        df = pd.read_csv(filepath, parse_dates=True, index_col='Date')\n",
    "    except FileNotFoundError:\n",
    "        print(\"No data found for {} {}, skipping\")\n",
    "        return None, False\n",
    "    \n",
    "    #Drop null rows\n",
    "    if sum(df.index.isna() == True) > 0:\n",
    "        df.drop(df[df.index.isna() == True].index, inplace=True)\n",
    "    # Drop Unnamed column\n",
    "    if 'Unnamed: 0' in df.columns:\n",
    "        df.drop(['Unnamed: 0'], axis=1, inplace=True)\n",
    "    return df, True"
   ]
  },
  {
   "cell_type": "code",
   "execution_count": 27,
   "metadata": {},
   "outputs": [],
   "source": [
    "def nearest_date(dates, targdate):\n",
    "    # given a pd series of dates and a target date, returns date from the series closest to target date (and distance)\n",
    "    for i in dates:\n",
    "        i = i.to_pydatetime()\n",
    "    nearest = min(dates, key=lambda x: abs(x - targdate))\n",
    "    timedelta = abs(nearest - targdate)\n",
    "    return nearest, timedelta"
   ]
  },
  {
   "cell_type": "code",
   "execution_count": 28,
   "metadata": {},
   "outputs": [],
   "source": [
    "# read in the cpid inverse coefficients\n",
    "coeffs = pd.read_csv('./CPI_DATA.csv')\n",
    "coeffs['DATE'] = pd.to_datetime(coeffs['DATE'])\n",
    "coeffs = coeffs.sort_values(by='DATE')\n",
    "coeffs = coeffs.reset_index(drop=True)"
   ]
  },
  {
   "cell_type": "code",
   "execution_count": 29,
   "metadata": {},
   "outputs": [
    {
     "output_type": "execute_result",
     "data": {
      "text/plain": [
       "         Date          Region   Class Commodity                Variety  \\\n",
       "0  2011-01-07  NORTHEAST U.S.  FRUITS    APPLES               BRAEBURN   \n",
       "19 2011-01-07  NORTHEAST U.S.  FRUITS    APPLES          RED DELICIOUS   \n",
       "18 2011-01-07  NORTHEAST U.S.  FRUITS    APPLES          RED DELICIOUS   \n",
       "17 2011-01-07  NORTHEAST U.S.  FRUITS    APPLES          RED DELICIOUS   \n",
       "16 2011-01-07  NORTHEAST U.S.  FRUITS    APPLES          RED DELICIOUS   \n",
       "15 2011-01-07  NORTHEAST U.S.  FRUITS    APPLES  PINK LADY/CRIPPS PINK   \n",
       "13 2011-01-07  NORTHEAST U.S.  FRUITS    APPLES           GRANNY SMITH   \n",
       "12 2011-01-07  NORTHEAST U.S.  FRUITS    APPLES           GRANNY SMITH   \n",
       "11 2011-01-07  NORTHEAST U.S.  FRUITS    APPLES       GOLDEN DELICIOUS   \n",
       "10 2011-01-07  NORTHEAST U.S.  FRUITS    APPLES       GOLDEN DELICIOUS   \n",
       "14 2011-01-07  NORTHEAST U.S.  FRUITS    APPLES           GRANNY SMITH   \n",
       "8  2011-01-07  NORTHEAST U.S.  FRUITS    APPLES                   GALA   \n",
       "9  2011-01-07  NORTHEAST U.S.  FRUITS    APPLES       GOLDEN DELICIOUS   \n",
       "2  2011-01-07  NORTHEAST U.S.  FRUITS    APPLES               BRAEBURN   \n",
       "3  2011-01-07  NORTHEAST U.S.  FRUITS    APPLES                   FUJI   \n",
       "4  2011-01-07  NORTHEAST U.S.  FRUITS    APPLES                   FUJI   \n",
       "1  2011-01-07  NORTHEAST U.S.  FRUITS    APPLES               BRAEBURN   \n",
       "6  2011-01-07  NORTHEAST U.S.  FRUITS    APPLES                   GALA   \n",
       "7  2011-01-07  NORTHEAST U.S.  FRUITS    APPLES                   GALA   \n",
       "5  2011-01-07  NORTHEAST U.S.  FRUITS    APPLES                   FUJI   \n",
       "\n",
       "   Organic  Environment       Unit  Number of Stores  Weighted Avg Price  \\\n",
       "0      NaN          NaN  per pound             125.0                1.24   \n",
       "19       Y          NaN  per pound             502.0                1.70   \n",
       "18       Y          NaN   3 lb bag             168.0                3.33   \n",
       "17     NaN          NaN  per pound            1010.0                1.37   \n",
       "16     NaN          NaN   3 lb bag             254.0                2.99   \n",
       "15       Y          NaN  per pound              17.0                2.49   \n",
       "13       Y          NaN   3 lb bag             112.0                3.00   \n",
       "12     NaN          NaN  per pound             509.0                1.24   \n",
       "11       Y          NaN  per pound             210.0                1.99   \n",
       "10     NaN          NaN  per pound             828.0                1.36   \n",
       "14       Y          NaN  per pound             626.0                1.99   \n",
       "8        Y          NaN  per pound             392.0                1.99   \n",
       "9      NaN          NaN   3 lb bag             113.0                2.99   \n",
       "2        Y          NaN  per pound              91.0                1.57   \n",
       "3      NaN          NaN  per pound              15.0                1.21   \n",
       "4        Y          NaN   3 lb bag             112.0                3.00   \n",
       "1        Y          NaN   3 lb bag             112.0                3.00   \n",
       "6      NaN          NaN  per pound             504.0                1.34   \n",
       "7        Y          NaN   3 lb bag             168.0                3.33   \n",
       "5        Y          NaN  per pound             142.0                1.99   \n",
       "\n",
       "    Low Price  High Price  % Marked Local  \n",
       "0        0.88        1.49             NaN  \n",
       "19       1.29        1.99             NaN  \n",
       "18       3.00        3.99             NaN  \n",
       "17       0.89        1.79             NaN  \n",
       "16       2.99        2.99             NaN  \n",
       "15       2.49        2.49             NaN  \n",
       "13       3.00        3.00             NaN  \n",
       "12       0.98        1.49             NaN  \n",
       "11       1.99        1.99             NaN  \n",
       "10       0.88        1.79             NaN  \n",
       "14       1.99        1.99             NaN  \n",
       "8        1.79        1.99             NaN  \n",
       "9        2.99        2.99             NaN  \n",
       "2        1.49        1.99             NaN  \n",
       "3        0.88        1.49             NaN  \n",
       "4        3.00        3.00             NaN  \n",
       "1        3.00        3.00             NaN  \n",
       "6        0.99        1.69             NaN  \n",
       "7        3.00        3.99             NaN  \n",
       "5        1.99        1.99             NaN  "
      ],
      "text/html": "<div>\n<style scoped>\n    .dataframe tbody tr th:only-of-type {\n        vertical-align: middle;\n    }\n\n    .dataframe tbody tr th {\n        vertical-align: top;\n    }\n\n    .dataframe thead th {\n        text-align: right;\n    }\n</style>\n<table border=\"1\" class=\"dataframe\">\n  <thead>\n    <tr style=\"text-align: right;\">\n      <th></th>\n      <th>Date</th>\n      <th>Region</th>\n      <th>Class</th>\n      <th>Commodity</th>\n      <th>Variety</th>\n      <th>Organic</th>\n      <th>Environment</th>\n      <th>Unit</th>\n      <th>Number of Stores</th>\n      <th>Weighted Avg Price</th>\n      <th>Low Price</th>\n      <th>High Price</th>\n      <th>% Marked Local</th>\n    </tr>\n  </thead>\n  <tbody>\n    <tr>\n      <th>0</th>\n      <td>2011-01-07</td>\n      <td>NORTHEAST U.S.</td>\n      <td>FRUITS</td>\n      <td>APPLES</td>\n      <td>BRAEBURN</td>\n      <td>NaN</td>\n      <td>NaN</td>\n      <td>per pound</td>\n      <td>125.0</td>\n      <td>1.24</td>\n      <td>0.88</td>\n      <td>1.49</td>\n      <td>NaN</td>\n    </tr>\n    <tr>\n      <th>19</th>\n      <td>2011-01-07</td>\n      <td>NORTHEAST U.S.</td>\n      <td>FRUITS</td>\n      <td>APPLES</td>\n      <td>RED DELICIOUS</td>\n      <td>Y</td>\n      <td>NaN</td>\n      <td>per pound</td>\n      <td>502.0</td>\n      <td>1.70</td>\n      <td>1.29</td>\n      <td>1.99</td>\n      <td>NaN</td>\n    </tr>\n    <tr>\n      <th>18</th>\n      <td>2011-01-07</td>\n      <td>NORTHEAST U.S.</td>\n      <td>FRUITS</td>\n      <td>APPLES</td>\n      <td>RED DELICIOUS</td>\n      <td>Y</td>\n      <td>NaN</td>\n      <td>3 lb bag</td>\n      <td>168.0</td>\n      <td>3.33</td>\n      <td>3.00</td>\n      <td>3.99</td>\n      <td>NaN</td>\n    </tr>\n    <tr>\n      <th>17</th>\n      <td>2011-01-07</td>\n      <td>NORTHEAST U.S.</td>\n      <td>FRUITS</td>\n      <td>APPLES</td>\n      <td>RED DELICIOUS</td>\n      <td>NaN</td>\n      <td>NaN</td>\n      <td>per pound</td>\n      <td>1010.0</td>\n      <td>1.37</td>\n      <td>0.89</td>\n      <td>1.79</td>\n      <td>NaN</td>\n    </tr>\n    <tr>\n      <th>16</th>\n      <td>2011-01-07</td>\n      <td>NORTHEAST U.S.</td>\n      <td>FRUITS</td>\n      <td>APPLES</td>\n      <td>RED DELICIOUS</td>\n      <td>NaN</td>\n      <td>NaN</td>\n      <td>3 lb bag</td>\n      <td>254.0</td>\n      <td>2.99</td>\n      <td>2.99</td>\n      <td>2.99</td>\n      <td>NaN</td>\n    </tr>\n    <tr>\n      <th>15</th>\n      <td>2011-01-07</td>\n      <td>NORTHEAST U.S.</td>\n      <td>FRUITS</td>\n      <td>APPLES</td>\n      <td>PINK LADY/CRIPPS PINK</td>\n      <td>Y</td>\n      <td>NaN</td>\n      <td>per pound</td>\n      <td>17.0</td>\n      <td>2.49</td>\n      <td>2.49</td>\n      <td>2.49</td>\n      <td>NaN</td>\n    </tr>\n    <tr>\n      <th>13</th>\n      <td>2011-01-07</td>\n      <td>NORTHEAST U.S.</td>\n      <td>FRUITS</td>\n      <td>APPLES</td>\n      <td>GRANNY SMITH</td>\n      <td>Y</td>\n      <td>NaN</td>\n      <td>3 lb bag</td>\n      <td>112.0</td>\n      <td>3.00</td>\n      <td>3.00</td>\n      <td>3.00</td>\n      <td>NaN</td>\n    </tr>\n    <tr>\n      <th>12</th>\n      <td>2011-01-07</td>\n      <td>NORTHEAST U.S.</td>\n      <td>FRUITS</td>\n      <td>APPLES</td>\n      <td>GRANNY SMITH</td>\n      <td>NaN</td>\n      <td>NaN</td>\n      <td>per pound</td>\n      <td>509.0</td>\n      <td>1.24</td>\n      <td>0.98</td>\n      <td>1.49</td>\n      <td>NaN</td>\n    </tr>\n    <tr>\n      <th>11</th>\n      <td>2011-01-07</td>\n      <td>NORTHEAST U.S.</td>\n      <td>FRUITS</td>\n      <td>APPLES</td>\n      <td>GOLDEN DELICIOUS</td>\n      <td>Y</td>\n      <td>NaN</td>\n      <td>per pound</td>\n      <td>210.0</td>\n      <td>1.99</td>\n      <td>1.99</td>\n      <td>1.99</td>\n      <td>NaN</td>\n    </tr>\n    <tr>\n      <th>10</th>\n      <td>2011-01-07</td>\n      <td>NORTHEAST U.S.</td>\n      <td>FRUITS</td>\n      <td>APPLES</td>\n      <td>GOLDEN DELICIOUS</td>\n      <td>NaN</td>\n      <td>NaN</td>\n      <td>per pound</td>\n      <td>828.0</td>\n      <td>1.36</td>\n      <td>0.88</td>\n      <td>1.79</td>\n      <td>NaN</td>\n    </tr>\n    <tr>\n      <th>14</th>\n      <td>2011-01-07</td>\n      <td>NORTHEAST U.S.</td>\n      <td>FRUITS</td>\n      <td>APPLES</td>\n      <td>GRANNY SMITH</td>\n      <td>Y</td>\n      <td>NaN</td>\n      <td>per pound</td>\n      <td>626.0</td>\n      <td>1.99</td>\n      <td>1.99</td>\n      <td>1.99</td>\n      <td>NaN</td>\n    </tr>\n    <tr>\n      <th>8</th>\n      <td>2011-01-07</td>\n      <td>NORTHEAST U.S.</td>\n      <td>FRUITS</td>\n      <td>APPLES</td>\n      <td>GALA</td>\n      <td>Y</td>\n      <td>NaN</td>\n      <td>per pound</td>\n      <td>392.0</td>\n      <td>1.99</td>\n      <td>1.79</td>\n      <td>1.99</td>\n      <td>NaN</td>\n    </tr>\n    <tr>\n      <th>9</th>\n      <td>2011-01-07</td>\n      <td>NORTHEAST U.S.</td>\n      <td>FRUITS</td>\n      <td>APPLES</td>\n      <td>GOLDEN DELICIOUS</td>\n      <td>NaN</td>\n      <td>NaN</td>\n      <td>3 lb bag</td>\n      <td>113.0</td>\n      <td>2.99</td>\n      <td>2.99</td>\n      <td>2.99</td>\n      <td>NaN</td>\n    </tr>\n    <tr>\n      <th>2</th>\n      <td>2011-01-07</td>\n      <td>NORTHEAST U.S.</td>\n      <td>FRUITS</td>\n      <td>APPLES</td>\n      <td>BRAEBURN</td>\n      <td>Y</td>\n      <td>NaN</td>\n      <td>per pound</td>\n      <td>91.0</td>\n      <td>1.57</td>\n      <td>1.49</td>\n      <td>1.99</td>\n      <td>NaN</td>\n    </tr>\n    <tr>\n      <th>3</th>\n      <td>2011-01-07</td>\n      <td>NORTHEAST U.S.</td>\n      <td>FRUITS</td>\n      <td>APPLES</td>\n      <td>FUJI</td>\n      <td>NaN</td>\n      <td>NaN</td>\n      <td>per pound</td>\n      <td>15.0</td>\n      <td>1.21</td>\n      <td>0.88</td>\n      <td>1.49</td>\n      <td>NaN</td>\n    </tr>\n    <tr>\n      <th>4</th>\n      <td>2011-01-07</td>\n      <td>NORTHEAST U.S.</td>\n      <td>FRUITS</td>\n      <td>APPLES</td>\n      <td>FUJI</td>\n      <td>Y</td>\n      <td>NaN</td>\n      <td>3 lb bag</td>\n      <td>112.0</td>\n      <td>3.00</td>\n      <td>3.00</td>\n      <td>3.00</td>\n      <td>NaN</td>\n    </tr>\n    <tr>\n      <th>1</th>\n      <td>2011-01-07</td>\n      <td>NORTHEAST U.S.</td>\n      <td>FRUITS</td>\n      <td>APPLES</td>\n      <td>BRAEBURN</td>\n      <td>Y</td>\n      <td>NaN</td>\n      <td>3 lb bag</td>\n      <td>112.0</td>\n      <td>3.00</td>\n      <td>3.00</td>\n      <td>3.00</td>\n      <td>NaN</td>\n    </tr>\n    <tr>\n      <th>6</th>\n      <td>2011-01-07</td>\n      <td>NORTHEAST U.S.</td>\n      <td>FRUITS</td>\n      <td>APPLES</td>\n      <td>GALA</td>\n      <td>NaN</td>\n      <td>NaN</td>\n      <td>per pound</td>\n      <td>504.0</td>\n      <td>1.34</td>\n      <td>0.99</td>\n      <td>1.69</td>\n      <td>NaN</td>\n    </tr>\n    <tr>\n      <th>7</th>\n      <td>2011-01-07</td>\n      <td>NORTHEAST U.S.</td>\n      <td>FRUITS</td>\n      <td>APPLES</td>\n      <td>GALA</td>\n      <td>Y</td>\n      <td>NaN</td>\n      <td>3 lb bag</td>\n      <td>168.0</td>\n      <td>3.33</td>\n      <td>3.00</td>\n      <td>3.99</td>\n      <td>NaN</td>\n    </tr>\n    <tr>\n      <th>5</th>\n      <td>2011-01-07</td>\n      <td>NORTHEAST U.S.</td>\n      <td>FRUITS</td>\n      <td>APPLES</td>\n      <td>FUJI</td>\n      <td>Y</td>\n      <td>NaN</td>\n      <td>per pound</td>\n      <td>142.0</td>\n      <td>1.99</td>\n      <td>1.99</td>\n      <td>1.99</td>\n      <td>NaN</td>\n    </tr>\n  </tbody>\n</table>\n</div>"
     },
     "metadata": {},
     "execution_count": 29
    }
   ],
   "source": [
    "# now loop over the data\n",
    "apples = load_and_clean('NORTHEAST+U.S.', 'APPLES')[0]\n",
    "apples = apples.reset_index().sort_values(by='Date')\n",
    "apples.head(20)\n",
    "        "
   ]
  },
  {
   "cell_type": "code",
   "execution_count": 30,
   "metadata": {},
   "outputs": [
    {
     "output_type": "execute_result",
     "data": {
      "text/plain": [
       "         Date          Region   Class Commodity                Variety  \\\n",
       "0  2011-01-07  NORTHEAST U.S.  FRUITS    APPLES               BRAEBURN   \n",
       "1  2011-01-07  NORTHEAST U.S.  FRUITS    APPLES          RED DELICIOUS   \n",
       "2  2011-01-07  NORTHEAST U.S.  FRUITS    APPLES          RED DELICIOUS   \n",
       "3  2011-01-07  NORTHEAST U.S.  FRUITS    APPLES          RED DELICIOUS   \n",
       "4  2011-01-07  NORTHEAST U.S.  FRUITS    APPLES          RED DELICIOUS   \n",
       "5  2011-01-07  NORTHEAST U.S.  FRUITS    APPLES  PINK LADY/CRIPPS PINK   \n",
       "6  2011-01-07  NORTHEAST U.S.  FRUITS    APPLES           GRANNY SMITH   \n",
       "7  2011-01-07  NORTHEAST U.S.  FRUITS    APPLES           GRANNY SMITH   \n",
       "8  2011-01-07  NORTHEAST U.S.  FRUITS    APPLES       GOLDEN DELICIOUS   \n",
       "9  2011-01-07  NORTHEAST U.S.  FRUITS    APPLES       GOLDEN DELICIOUS   \n",
       "10 2011-01-07  NORTHEAST U.S.  FRUITS    APPLES           GRANNY SMITH   \n",
       "11 2011-01-07  NORTHEAST U.S.  FRUITS    APPLES                   GALA   \n",
       "12 2011-01-07  NORTHEAST U.S.  FRUITS    APPLES       GOLDEN DELICIOUS   \n",
       "13 2011-01-07  NORTHEAST U.S.  FRUITS    APPLES               BRAEBURN   \n",
       "14 2011-01-07  NORTHEAST U.S.  FRUITS    APPLES                   FUJI   \n",
       "15 2011-01-07  NORTHEAST U.S.  FRUITS    APPLES                   FUJI   \n",
       "16 2011-01-07  NORTHEAST U.S.  FRUITS    APPLES               BRAEBURN   \n",
       "17 2011-01-07  NORTHEAST U.S.  FRUITS    APPLES                   GALA   \n",
       "18 2011-01-07  NORTHEAST U.S.  FRUITS    APPLES                   GALA   \n",
       "19 2011-01-07  NORTHEAST U.S.  FRUITS    APPLES                   FUJI   \n",
       "\n",
       "   Organic  Environment       Unit  Number of Stores  Weighted Avg Price  \\\n",
       "0      NaN          NaN  per pound             125.0                1.24   \n",
       "1        Y          NaN  per pound             502.0                1.70   \n",
       "2        Y          NaN   3 lb bag             168.0                3.33   \n",
       "3      NaN          NaN  per pound            1010.0                1.37   \n",
       "4      NaN          NaN   3 lb bag             254.0                2.99   \n",
       "5        Y          NaN  per pound              17.0                2.49   \n",
       "6        Y          NaN   3 lb bag             112.0                3.00   \n",
       "7      NaN          NaN  per pound             509.0                1.24   \n",
       "8        Y          NaN  per pound             210.0                1.99   \n",
       "9      NaN          NaN  per pound             828.0                1.36   \n",
       "10       Y          NaN  per pound             626.0                1.99   \n",
       "11       Y          NaN  per pound             392.0                1.99   \n",
       "12     NaN          NaN   3 lb bag             113.0                2.99   \n",
       "13       Y          NaN  per pound              91.0                1.57   \n",
       "14     NaN          NaN  per pound              15.0                1.21   \n",
       "15       Y          NaN   3 lb bag             112.0                3.00   \n",
       "16       Y          NaN   3 lb bag             112.0                3.00   \n",
       "17     NaN          NaN  per pound             504.0                1.34   \n",
       "18       Y          NaN   3 lb bag             168.0                3.33   \n",
       "19       Y          NaN  per pound             142.0                1.99   \n",
       "\n",
       "    Low Price  High Price  % Marked Local       DATE  CPIAUCNS  \n",
       "0        0.88        1.49             NaN 2011-01-01   220.223  \n",
       "1        1.29        1.99             NaN 2011-01-01   220.223  \n",
       "2        3.00        3.99             NaN 2011-01-01   220.223  \n",
       "3        0.89        1.79             NaN 2011-01-01   220.223  \n",
       "4        2.99        2.99             NaN 2011-01-01   220.223  \n",
       "5        2.49        2.49             NaN 2011-01-01   220.223  \n",
       "6        3.00        3.00             NaN 2011-01-01   220.223  \n",
       "7        0.98        1.49             NaN 2011-01-01   220.223  \n",
       "8        1.99        1.99             NaN 2011-01-01   220.223  \n",
       "9        0.88        1.79             NaN 2011-01-01   220.223  \n",
       "10       1.99        1.99             NaN 2011-01-01   220.223  \n",
       "11       1.79        1.99             NaN 2011-01-01   220.223  \n",
       "12       2.99        2.99             NaN 2011-01-01   220.223  \n",
       "13       1.49        1.99             NaN 2011-01-01   220.223  \n",
       "14       0.88        1.49             NaN 2011-01-01   220.223  \n",
       "15       3.00        3.00             NaN 2011-01-01   220.223  \n",
       "16       3.00        3.00             NaN 2011-01-01   220.223  \n",
       "17       0.99        1.69             NaN 2011-01-01   220.223  \n",
       "18       3.00        3.99             NaN 2011-01-01   220.223  \n",
       "19       1.99        1.99             NaN 2011-01-01   220.223  "
      ],
      "text/html": "<div>\n<style scoped>\n    .dataframe tbody tr th:only-of-type {\n        vertical-align: middle;\n    }\n\n    .dataframe tbody tr th {\n        vertical-align: top;\n    }\n\n    .dataframe thead th {\n        text-align: right;\n    }\n</style>\n<table border=\"1\" class=\"dataframe\">\n  <thead>\n    <tr style=\"text-align: right;\">\n      <th></th>\n      <th>Date</th>\n      <th>Region</th>\n      <th>Class</th>\n      <th>Commodity</th>\n      <th>Variety</th>\n      <th>Organic</th>\n      <th>Environment</th>\n      <th>Unit</th>\n      <th>Number of Stores</th>\n      <th>Weighted Avg Price</th>\n      <th>Low Price</th>\n      <th>High Price</th>\n      <th>% Marked Local</th>\n      <th>DATE</th>\n      <th>CPIAUCNS</th>\n    </tr>\n  </thead>\n  <tbody>\n    <tr>\n      <th>0</th>\n      <td>2011-01-07</td>\n      <td>NORTHEAST U.S.</td>\n      <td>FRUITS</td>\n      <td>APPLES</td>\n      <td>BRAEBURN</td>\n      <td>NaN</td>\n      <td>NaN</td>\n      <td>per pound</td>\n      <td>125.0</td>\n      <td>1.24</td>\n      <td>0.88</td>\n      <td>1.49</td>\n      <td>NaN</td>\n      <td>2011-01-01</td>\n      <td>220.223</td>\n    </tr>\n    <tr>\n      <th>1</th>\n      <td>2011-01-07</td>\n      <td>NORTHEAST U.S.</td>\n      <td>FRUITS</td>\n      <td>APPLES</td>\n      <td>RED DELICIOUS</td>\n      <td>Y</td>\n      <td>NaN</td>\n      <td>per pound</td>\n      <td>502.0</td>\n      <td>1.70</td>\n      <td>1.29</td>\n      <td>1.99</td>\n      <td>NaN</td>\n      <td>2011-01-01</td>\n      <td>220.223</td>\n    </tr>\n    <tr>\n      <th>2</th>\n      <td>2011-01-07</td>\n      <td>NORTHEAST U.S.</td>\n      <td>FRUITS</td>\n      <td>APPLES</td>\n      <td>RED DELICIOUS</td>\n      <td>Y</td>\n      <td>NaN</td>\n      <td>3 lb bag</td>\n      <td>168.0</td>\n      <td>3.33</td>\n      <td>3.00</td>\n      <td>3.99</td>\n      <td>NaN</td>\n      <td>2011-01-01</td>\n      <td>220.223</td>\n    </tr>\n    <tr>\n      <th>3</th>\n      <td>2011-01-07</td>\n      <td>NORTHEAST U.S.</td>\n      <td>FRUITS</td>\n      <td>APPLES</td>\n      <td>RED DELICIOUS</td>\n      <td>NaN</td>\n      <td>NaN</td>\n      <td>per pound</td>\n      <td>1010.0</td>\n      <td>1.37</td>\n      <td>0.89</td>\n      <td>1.79</td>\n      <td>NaN</td>\n      <td>2011-01-01</td>\n      <td>220.223</td>\n    </tr>\n    <tr>\n      <th>4</th>\n      <td>2011-01-07</td>\n      <td>NORTHEAST U.S.</td>\n      <td>FRUITS</td>\n      <td>APPLES</td>\n      <td>RED DELICIOUS</td>\n      <td>NaN</td>\n      <td>NaN</td>\n      <td>3 lb bag</td>\n      <td>254.0</td>\n      <td>2.99</td>\n      <td>2.99</td>\n      <td>2.99</td>\n      <td>NaN</td>\n      <td>2011-01-01</td>\n      <td>220.223</td>\n    </tr>\n    <tr>\n      <th>5</th>\n      <td>2011-01-07</td>\n      <td>NORTHEAST U.S.</td>\n      <td>FRUITS</td>\n      <td>APPLES</td>\n      <td>PINK LADY/CRIPPS PINK</td>\n      <td>Y</td>\n      <td>NaN</td>\n      <td>per pound</td>\n      <td>17.0</td>\n      <td>2.49</td>\n      <td>2.49</td>\n      <td>2.49</td>\n      <td>NaN</td>\n      <td>2011-01-01</td>\n      <td>220.223</td>\n    </tr>\n    <tr>\n      <th>6</th>\n      <td>2011-01-07</td>\n      <td>NORTHEAST U.S.</td>\n      <td>FRUITS</td>\n      <td>APPLES</td>\n      <td>GRANNY SMITH</td>\n      <td>Y</td>\n      <td>NaN</td>\n      <td>3 lb bag</td>\n      <td>112.0</td>\n      <td>3.00</td>\n      <td>3.00</td>\n      <td>3.00</td>\n      <td>NaN</td>\n      <td>2011-01-01</td>\n      <td>220.223</td>\n    </tr>\n    <tr>\n      <th>7</th>\n      <td>2011-01-07</td>\n      <td>NORTHEAST U.S.</td>\n      <td>FRUITS</td>\n      <td>APPLES</td>\n      <td>GRANNY SMITH</td>\n      <td>NaN</td>\n      <td>NaN</td>\n      <td>per pound</td>\n      <td>509.0</td>\n      <td>1.24</td>\n      <td>0.98</td>\n      <td>1.49</td>\n      <td>NaN</td>\n      <td>2011-01-01</td>\n      <td>220.223</td>\n    </tr>\n    <tr>\n      <th>8</th>\n      <td>2011-01-07</td>\n      <td>NORTHEAST U.S.</td>\n      <td>FRUITS</td>\n      <td>APPLES</td>\n      <td>GOLDEN DELICIOUS</td>\n      <td>Y</td>\n      <td>NaN</td>\n      <td>per pound</td>\n      <td>210.0</td>\n      <td>1.99</td>\n      <td>1.99</td>\n      <td>1.99</td>\n      <td>NaN</td>\n      <td>2011-01-01</td>\n      <td>220.223</td>\n    </tr>\n    <tr>\n      <th>9</th>\n      <td>2011-01-07</td>\n      <td>NORTHEAST U.S.</td>\n      <td>FRUITS</td>\n      <td>APPLES</td>\n      <td>GOLDEN DELICIOUS</td>\n      <td>NaN</td>\n      <td>NaN</td>\n      <td>per pound</td>\n      <td>828.0</td>\n      <td>1.36</td>\n      <td>0.88</td>\n      <td>1.79</td>\n      <td>NaN</td>\n      <td>2011-01-01</td>\n      <td>220.223</td>\n    </tr>\n    <tr>\n      <th>10</th>\n      <td>2011-01-07</td>\n      <td>NORTHEAST U.S.</td>\n      <td>FRUITS</td>\n      <td>APPLES</td>\n      <td>GRANNY SMITH</td>\n      <td>Y</td>\n      <td>NaN</td>\n      <td>per pound</td>\n      <td>626.0</td>\n      <td>1.99</td>\n      <td>1.99</td>\n      <td>1.99</td>\n      <td>NaN</td>\n      <td>2011-01-01</td>\n      <td>220.223</td>\n    </tr>\n    <tr>\n      <th>11</th>\n      <td>2011-01-07</td>\n      <td>NORTHEAST U.S.</td>\n      <td>FRUITS</td>\n      <td>APPLES</td>\n      <td>GALA</td>\n      <td>Y</td>\n      <td>NaN</td>\n      <td>per pound</td>\n      <td>392.0</td>\n      <td>1.99</td>\n      <td>1.79</td>\n      <td>1.99</td>\n      <td>NaN</td>\n      <td>2011-01-01</td>\n      <td>220.223</td>\n    </tr>\n    <tr>\n      <th>12</th>\n      <td>2011-01-07</td>\n      <td>NORTHEAST U.S.</td>\n      <td>FRUITS</td>\n      <td>APPLES</td>\n      <td>GOLDEN DELICIOUS</td>\n      <td>NaN</td>\n      <td>NaN</td>\n      <td>3 lb bag</td>\n      <td>113.0</td>\n      <td>2.99</td>\n      <td>2.99</td>\n      <td>2.99</td>\n      <td>NaN</td>\n      <td>2011-01-01</td>\n      <td>220.223</td>\n    </tr>\n    <tr>\n      <th>13</th>\n      <td>2011-01-07</td>\n      <td>NORTHEAST U.S.</td>\n      <td>FRUITS</td>\n      <td>APPLES</td>\n      <td>BRAEBURN</td>\n      <td>Y</td>\n      <td>NaN</td>\n      <td>per pound</td>\n      <td>91.0</td>\n      <td>1.57</td>\n      <td>1.49</td>\n      <td>1.99</td>\n      <td>NaN</td>\n      <td>2011-01-01</td>\n      <td>220.223</td>\n    </tr>\n    <tr>\n      <th>14</th>\n      <td>2011-01-07</td>\n      <td>NORTHEAST U.S.</td>\n      <td>FRUITS</td>\n      <td>APPLES</td>\n      <td>FUJI</td>\n      <td>NaN</td>\n      <td>NaN</td>\n      <td>per pound</td>\n      <td>15.0</td>\n      <td>1.21</td>\n      <td>0.88</td>\n      <td>1.49</td>\n      <td>NaN</td>\n      <td>2011-01-01</td>\n      <td>220.223</td>\n    </tr>\n    <tr>\n      <th>15</th>\n      <td>2011-01-07</td>\n      <td>NORTHEAST U.S.</td>\n      <td>FRUITS</td>\n      <td>APPLES</td>\n      <td>FUJI</td>\n      <td>Y</td>\n      <td>NaN</td>\n      <td>3 lb bag</td>\n      <td>112.0</td>\n      <td>3.00</td>\n      <td>3.00</td>\n      <td>3.00</td>\n      <td>NaN</td>\n      <td>2011-01-01</td>\n      <td>220.223</td>\n    </tr>\n    <tr>\n      <th>16</th>\n      <td>2011-01-07</td>\n      <td>NORTHEAST U.S.</td>\n      <td>FRUITS</td>\n      <td>APPLES</td>\n      <td>BRAEBURN</td>\n      <td>Y</td>\n      <td>NaN</td>\n      <td>3 lb bag</td>\n      <td>112.0</td>\n      <td>3.00</td>\n      <td>3.00</td>\n      <td>3.00</td>\n      <td>NaN</td>\n      <td>2011-01-01</td>\n      <td>220.223</td>\n    </tr>\n    <tr>\n      <th>17</th>\n      <td>2011-01-07</td>\n      <td>NORTHEAST U.S.</td>\n      <td>FRUITS</td>\n      <td>APPLES</td>\n      <td>GALA</td>\n      <td>NaN</td>\n      <td>NaN</td>\n      <td>per pound</td>\n      <td>504.0</td>\n      <td>1.34</td>\n      <td>0.99</td>\n      <td>1.69</td>\n      <td>NaN</td>\n      <td>2011-01-01</td>\n      <td>220.223</td>\n    </tr>\n    <tr>\n      <th>18</th>\n      <td>2011-01-07</td>\n      <td>NORTHEAST U.S.</td>\n      <td>FRUITS</td>\n      <td>APPLES</td>\n      <td>GALA</td>\n      <td>Y</td>\n      <td>NaN</td>\n      <td>3 lb bag</td>\n      <td>168.0</td>\n      <td>3.33</td>\n      <td>3.00</td>\n      <td>3.99</td>\n      <td>NaN</td>\n      <td>2011-01-01</td>\n      <td>220.223</td>\n    </tr>\n    <tr>\n      <th>19</th>\n      <td>2011-01-07</td>\n      <td>NORTHEAST U.S.</td>\n      <td>FRUITS</td>\n      <td>APPLES</td>\n      <td>FUJI</td>\n      <td>Y</td>\n      <td>NaN</td>\n      <td>per pound</td>\n      <td>142.0</td>\n      <td>1.99</td>\n      <td>1.99</td>\n      <td>1.99</td>\n      <td>NaN</td>\n      <td>2011-01-01</td>\n      <td>220.223</td>\n    </tr>\n  </tbody>\n</table>\n</div>"
     },
     "metadata": {},
     "execution_count": 30
    }
   ],
   "source": [
    "merged_df = pd.merge_asof(apples, coeffs, left_on='Date', right_on='DATE')\n",
    "merged_df.head(20)"
   ]
  },
  {
   "cell_type": "code",
   "execution_count": 31,
   "metadata": {},
   "outputs": [
    {
     "output_type": "execute_result",
     "data": {
      "text/plain": [
       "           Date          Region   Class Commodity                Variety  \\\n",
       "5000 2016-03-11  NORTHEAST U.S.  FRUITS    APPLES                   ROME   \n",
       "5001 2016-03-11  NORTHEAST U.S.  FRUITS    APPLES           GRANNY SMITH   \n",
       "5002 2016-03-11  NORTHEAST U.S.  FRUITS    APPLES       GOLDEN DELICIOUS   \n",
       "5003 2016-03-11  NORTHEAST U.S.  FRUITS    APPLES       GOLDEN DELICIOUS   \n",
       "5004 2016-03-11  NORTHEAST U.S.  FRUITS    APPLES       GOLDEN DELICIOUS   \n",
       "...         ...             ...     ...       ...                    ...   \n",
       "5095 2016-04-15  NORTHEAST U.S.  FRUITS    APPLES  PINK LADY/CRIPPS PINK   \n",
       "5096 2016-04-15  NORTHEAST U.S.  FRUITS    APPLES          RED DELICIOUS   \n",
       "5097 2016-04-15  NORTHEAST U.S.  FRUITS    APPLES          RED DELICIOUS   \n",
       "5098 2016-04-15  NORTHEAST U.S.  FRUITS    APPLES          RED DELICIOUS   \n",
       "5099 2016-04-15  NORTHEAST U.S.  FRUITS    APPLES          RED DELICIOUS   \n",
       "\n",
       "     Organic  Environment       Unit  Number of Stores  Weighted Avg Price  \\\n",
       "5000     NaN          NaN  per pound              59.0                1.49   \n",
       "5001       Y          NaN  per pound             139.0                2.88   \n",
       "5002     NaN          NaN  per pound             250.0                1.50   \n",
       "5003     NaN          NaN   5 lb bag             167.0                3.99   \n",
       "5004     NaN          NaN   3 lb bag             188.0                2.96   \n",
       "...      ...          ...        ...               ...                 ...   \n",
       "5095     NaN          NaN  per pound             284.0                1.50   \n",
       "5096     NaN          NaN   3 lb bag             197.0                2.67   \n",
       "5097       Y          NaN  per pound               6.0                2.49   \n",
       "5098     NaN          NaN  per pound             674.0                1.41   \n",
       "5099       Y          NaN   3 lb bag               8.0                5.99   \n",
       "\n",
       "      Low Price  High Price  % Marked Local       DATE  CPIAUCNS  \n",
       "5000       1.49        1.49             NaN 2016-03-01   238.132  \n",
       "5001       2.49        2.99             NaN 2016-03-01   238.132  \n",
       "5002       0.97        1.69             NaN 2016-03-01   238.132  \n",
       "5003       3.99        3.99             NaN 2016-03-01   238.132  \n",
       "5004       2.50        3.50             NaN 2016-03-01   238.132  \n",
       "...         ...         ...             ...        ...       ...  \n",
       "5095       0.99        2.29             NaN 2016-04-01   239.261  \n",
       "5096       1.99        2.99             NaN 2016-04-01   239.261  \n",
       "5097       2.49        2.49             NaN 2016-04-01   239.261  \n",
       "5098       0.88        1.79             NaN 2016-04-01   239.261  \n",
       "5099       5.99        5.99             NaN 2016-04-01   239.261  \n",
       "\n",
       "[100 rows x 15 columns]"
      ],
      "text/html": "<div>\n<style scoped>\n    .dataframe tbody tr th:only-of-type {\n        vertical-align: middle;\n    }\n\n    .dataframe tbody tr th {\n        vertical-align: top;\n    }\n\n    .dataframe thead th {\n        text-align: right;\n    }\n</style>\n<table border=\"1\" class=\"dataframe\">\n  <thead>\n    <tr style=\"text-align: right;\">\n      <th></th>\n      <th>Date</th>\n      <th>Region</th>\n      <th>Class</th>\n      <th>Commodity</th>\n      <th>Variety</th>\n      <th>Organic</th>\n      <th>Environment</th>\n      <th>Unit</th>\n      <th>Number of Stores</th>\n      <th>Weighted Avg Price</th>\n      <th>Low Price</th>\n      <th>High Price</th>\n      <th>% Marked Local</th>\n      <th>DATE</th>\n      <th>CPIAUCNS</th>\n    </tr>\n  </thead>\n  <tbody>\n    <tr>\n      <th>5000</th>\n      <td>2016-03-11</td>\n      <td>NORTHEAST U.S.</td>\n      <td>FRUITS</td>\n      <td>APPLES</td>\n      <td>ROME</td>\n      <td>NaN</td>\n      <td>NaN</td>\n      <td>per pound</td>\n      <td>59.0</td>\n      <td>1.49</td>\n      <td>1.49</td>\n      <td>1.49</td>\n      <td>NaN</td>\n      <td>2016-03-01</td>\n      <td>238.132</td>\n    </tr>\n    <tr>\n      <th>5001</th>\n      <td>2016-03-11</td>\n      <td>NORTHEAST U.S.</td>\n      <td>FRUITS</td>\n      <td>APPLES</td>\n      <td>GRANNY SMITH</td>\n      <td>Y</td>\n      <td>NaN</td>\n      <td>per pound</td>\n      <td>139.0</td>\n      <td>2.88</td>\n      <td>2.49</td>\n      <td>2.99</td>\n      <td>NaN</td>\n      <td>2016-03-01</td>\n      <td>238.132</td>\n    </tr>\n    <tr>\n      <th>5002</th>\n      <td>2016-03-11</td>\n      <td>NORTHEAST U.S.</td>\n      <td>FRUITS</td>\n      <td>APPLES</td>\n      <td>GOLDEN DELICIOUS</td>\n      <td>NaN</td>\n      <td>NaN</td>\n      <td>per pound</td>\n      <td>250.0</td>\n      <td>1.50</td>\n      <td>0.97</td>\n      <td>1.69</td>\n      <td>NaN</td>\n      <td>2016-03-01</td>\n      <td>238.132</td>\n    </tr>\n    <tr>\n      <th>5003</th>\n      <td>2016-03-11</td>\n      <td>NORTHEAST U.S.</td>\n      <td>FRUITS</td>\n      <td>APPLES</td>\n      <td>GOLDEN DELICIOUS</td>\n      <td>NaN</td>\n      <td>NaN</td>\n      <td>5 lb bag</td>\n      <td>167.0</td>\n      <td>3.99</td>\n      <td>3.99</td>\n      <td>3.99</td>\n      <td>NaN</td>\n      <td>2016-03-01</td>\n      <td>238.132</td>\n    </tr>\n    <tr>\n      <th>5004</th>\n      <td>2016-03-11</td>\n      <td>NORTHEAST U.S.</td>\n      <td>FRUITS</td>\n      <td>APPLES</td>\n      <td>GOLDEN DELICIOUS</td>\n      <td>NaN</td>\n      <td>NaN</td>\n      <td>3 lb bag</td>\n      <td>188.0</td>\n      <td>2.96</td>\n      <td>2.50</td>\n      <td>3.50</td>\n      <td>NaN</td>\n      <td>2016-03-01</td>\n      <td>238.132</td>\n    </tr>\n    <tr>\n      <th>...</th>\n      <td>...</td>\n      <td>...</td>\n      <td>...</td>\n      <td>...</td>\n      <td>...</td>\n      <td>...</td>\n      <td>...</td>\n      <td>...</td>\n      <td>...</td>\n      <td>...</td>\n      <td>...</td>\n      <td>...</td>\n      <td>...</td>\n      <td>...</td>\n      <td>...</td>\n    </tr>\n    <tr>\n      <th>5095</th>\n      <td>2016-04-15</td>\n      <td>NORTHEAST U.S.</td>\n      <td>FRUITS</td>\n      <td>APPLES</td>\n      <td>PINK LADY/CRIPPS PINK</td>\n      <td>NaN</td>\n      <td>NaN</td>\n      <td>per pound</td>\n      <td>284.0</td>\n      <td>1.50</td>\n      <td>0.99</td>\n      <td>2.29</td>\n      <td>NaN</td>\n      <td>2016-04-01</td>\n      <td>239.261</td>\n    </tr>\n    <tr>\n      <th>5096</th>\n      <td>2016-04-15</td>\n      <td>NORTHEAST U.S.</td>\n      <td>FRUITS</td>\n      <td>APPLES</td>\n      <td>RED DELICIOUS</td>\n      <td>NaN</td>\n      <td>NaN</td>\n      <td>3 lb bag</td>\n      <td>197.0</td>\n      <td>2.67</td>\n      <td>1.99</td>\n      <td>2.99</td>\n      <td>NaN</td>\n      <td>2016-04-01</td>\n      <td>239.261</td>\n    </tr>\n    <tr>\n      <th>5097</th>\n      <td>2016-04-15</td>\n      <td>NORTHEAST U.S.</td>\n      <td>FRUITS</td>\n      <td>APPLES</td>\n      <td>RED DELICIOUS</td>\n      <td>Y</td>\n      <td>NaN</td>\n      <td>per pound</td>\n      <td>6.0</td>\n      <td>2.49</td>\n      <td>2.49</td>\n      <td>2.49</td>\n      <td>NaN</td>\n      <td>2016-04-01</td>\n      <td>239.261</td>\n    </tr>\n    <tr>\n      <th>5098</th>\n      <td>2016-04-15</td>\n      <td>NORTHEAST U.S.</td>\n      <td>FRUITS</td>\n      <td>APPLES</td>\n      <td>RED DELICIOUS</td>\n      <td>NaN</td>\n      <td>NaN</td>\n      <td>per pound</td>\n      <td>674.0</td>\n      <td>1.41</td>\n      <td>0.88</td>\n      <td>1.79</td>\n      <td>NaN</td>\n      <td>2016-04-01</td>\n      <td>239.261</td>\n    </tr>\n    <tr>\n      <th>5099</th>\n      <td>2016-04-15</td>\n      <td>NORTHEAST U.S.</td>\n      <td>FRUITS</td>\n      <td>APPLES</td>\n      <td>RED DELICIOUS</td>\n      <td>Y</td>\n      <td>NaN</td>\n      <td>3 lb bag</td>\n      <td>8.0</td>\n      <td>5.99</td>\n      <td>5.99</td>\n      <td>5.99</td>\n      <td>NaN</td>\n      <td>2016-04-01</td>\n      <td>239.261</td>\n    </tr>\n  </tbody>\n</table>\n<p>100 rows × 15 columns</p>\n</div>"
     },
     "metadata": {},
     "execution_count": 31
    }
   ],
   "source": [
    "merged_df.iloc[5000:5100]"
   ]
  },
  {
   "cell_type": "code",
   "execution_count": 32,
   "metadata": {},
   "outputs": [
    {
     "output_type": "stream",
     "name": "stdout",
     "text": [
      "Data with inflation index added:\n                     Region   Class Commodity        Variety Organic  \\\nDate                                                                  \n2011-01-07  NORTHEAST U.S.  FRUITS    APPLES       BRAEBURN     NaN   \n2011-01-07  NORTHEAST U.S.  FRUITS    APPLES  RED DELICIOUS       Y   \n2011-01-07  NORTHEAST U.S.  FRUITS    APPLES  RED DELICIOUS       Y   \n2011-01-07  NORTHEAST U.S.  FRUITS    APPLES  RED DELICIOUS     NaN   \n2011-01-07  NORTHEAST U.S.  FRUITS    APPLES  RED DELICIOUS     NaN   \n\n            Environment       Unit  Number of Stores  Weighted Avg Price  \\\nDate                                                                       \n2011-01-07          NaN  per pound             125.0                1.24   \n2011-01-07          NaN  per pound             502.0                1.70   \n2011-01-07          NaN   3 lb bag             168.0                3.33   \n2011-01-07          NaN  per pound            1010.0                1.37   \n2011-01-07          NaN   3 lb bag             254.0                2.99   \n\n            Low Price  High Price  % Marked Local       DATE  CPIAUCNS  \\\nDate                                                                     \n2011-01-07       0.88        1.49             NaN 2011-01-01   220.223   \n2011-01-07       1.29        1.99             NaN 2011-01-01   220.223   \n2011-01-07       3.00        3.99             NaN 2011-01-01   220.223   \n2011-01-07       0.89        1.79             NaN 2011-01-01   220.223   \n2011-01-07       2.99        2.99             NaN 2011-01-01   220.223   \n\n            IA Average Price  \nDate                          \n2011-01-07          0.563066  \n2011-01-07          0.771945  \n2011-01-07          1.512104  \n2011-01-07          0.622097  \n2011-01-07          1.357715  \n"
     ]
    }
   ],
   "source": [
    "merged_df[\"IA Average Price\"] = (merged_df['Weighted Avg Price']/merged_df['CPIAUCNS'])*100\n",
    "merged_df = merged_df.set_index('Date')\n",
    "print('Data with inflation index added:\\n', merged_df.head())"
   ]
  },
  {
   "cell_type": "code",
   "execution_count": 33,
   "metadata": {},
   "outputs": [
    {
     "output_type": "execute_result",
     "data": {
      "text/plain": [
       "                    Region   Class Commodity        Variety Organic  \\\n",
       "Date                                                                  \n",
       "2021-02-19  NORTHEAST U.S.  FRUITS    APPLES   GRANNY SMITH       Y   \n",
       "2021-02-19  NORTHEAST U.S.  FRUITS    APPLES   GRANNY SMITH       Y   \n",
       "2021-02-19  NORTHEAST U.S.  FRUITS    APPLES     HONEYCRISP     NaN   \n",
       "2021-02-19  NORTHEAST U.S.  FRUITS    APPLES           GALA     NaN   \n",
       "2021-02-19  NORTHEAST U.S.  FRUITS    APPLES  RED DELICIOUS     NaN   \n",
       "\n",
       "            Environment       Unit  Number of Stores  Weighted Avg Price  \\\n",
       "Date                                                                       \n",
       "2021-02-19          NaN   2 lb bag             260.0                3.99   \n",
       "2021-02-19          NaN  per pound              75.0                1.99   \n",
       "2021-02-19          NaN   3 lb bag               9.0                2.99   \n",
       "2021-02-19          NaN   3 lb bag              58.0                3.27   \n",
       "2021-02-19          NaN  per pound              54.0                1.39   \n",
       "\n",
       "            Low Price  High Price  % Marked Local       DATE  CPIAUCNS  \\\n",
       "Date                                                                     \n",
       "2021-02-19       3.99        3.99             NaN 2021-01-01   261.582   \n",
       "2021-02-19       1.99        1.99             NaN 2021-01-01   261.582   \n",
       "2021-02-19       2.99        2.99             NaN 2021-01-01   261.582   \n",
       "2021-02-19       2.99        4.99             NaN 2021-01-01   261.582   \n",
       "2021-02-19       1.29        1.49             NaN 2021-01-01   261.582   \n",
       "\n",
       "            IA Average Price  \n",
       "Date                          \n",
       "2021-02-19          1.525334  \n",
       "2021-02-19          0.760756  \n",
       "2021-02-19          1.143045  \n",
       "2021-02-19          1.250086  \n",
       "2021-02-19          0.531382  "
      ],
      "text/html": "<div>\n<style scoped>\n    .dataframe tbody tr th:only-of-type {\n        vertical-align: middle;\n    }\n\n    .dataframe tbody tr th {\n        vertical-align: top;\n    }\n\n    .dataframe thead th {\n        text-align: right;\n    }\n</style>\n<table border=\"1\" class=\"dataframe\">\n  <thead>\n    <tr style=\"text-align: right;\">\n      <th></th>\n      <th>Region</th>\n      <th>Class</th>\n      <th>Commodity</th>\n      <th>Variety</th>\n      <th>Organic</th>\n      <th>Environment</th>\n      <th>Unit</th>\n      <th>Number of Stores</th>\n      <th>Weighted Avg Price</th>\n      <th>Low Price</th>\n      <th>High Price</th>\n      <th>% Marked Local</th>\n      <th>DATE</th>\n      <th>CPIAUCNS</th>\n      <th>IA Average Price</th>\n    </tr>\n    <tr>\n      <th>Date</th>\n      <th></th>\n      <th></th>\n      <th></th>\n      <th></th>\n      <th></th>\n      <th></th>\n      <th></th>\n      <th></th>\n      <th></th>\n      <th></th>\n      <th></th>\n      <th></th>\n      <th></th>\n      <th></th>\n      <th></th>\n    </tr>\n  </thead>\n  <tbody>\n    <tr>\n      <th>2021-02-19</th>\n      <td>NORTHEAST U.S.</td>\n      <td>FRUITS</td>\n      <td>APPLES</td>\n      <td>GRANNY SMITH</td>\n      <td>Y</td>\n      <td>NaN</td>\n      <td>2 lb bag</td>\n      <td>260.0</td>\n      <td>3.99</td>\n      <td>3.99</td>\n      <td>3.99</td>\n      <td>NaN</td>\n      <td>2021-01-01</td>\n      <td>261.582</td>\n      <td>1.525334</td>\n    </tr>\n    <tr>\n      <th>2021-02-19</th>\n      <td>NORTHEAST U.S.</td>\n      <td>FRUITS</td>\n      <td>APPLES</td>\n      <td>GRANNY SMITH</td>\n      <td>Y</td>\n      <td>NaN</td>\n      <td>per pound</td>\n      <td>75.0</td>\n      <td>1.99</td>\n      <td>1.99</td>\n      <td>1.99</td>\n      <td>NaN</td>\n      <td>2021-01-01</td>\n      <td>261.582</td>\n      <td>0.760756</td>\n    </tr>\n    <tr>\n      <th>2021-02-19</th>\n      <td>NORTHEAST U.S.</td>\n      <td>FRUITS</td>\n      <td>APPLES</td>\n      <td>HONEYCRISP</td>\n      <td>NaN</td>\n      <td>NaN</td>\n      <td>3 lb bag</td>\n      <td>9.0</td>\n      <td>2.99</td>\n      <td>2.99</td>\n      <td>2.99</td>\n      <td>NaN</td>\n      <td>2021-01-01</td>\n      <td>261.582</td>\n      <td>1.143045</td>\n    </tr>\n    <tr>\n      <th>2021-02-19</th>\n      <td>NORTHEAST U.S.</td>\n      <td>FRUITS</td>\n      <td>APPLES</td>\n      <td>GALA</td>\n      <td>NaN</td>\n      <td>NaN</td>\n      <td>3 lb bag</td>\n      <td>58.0</td>\n      <td>3.27</td>\n      <td>2.99</td>\n      <td>4.99</td>\n      <td>NaN</td>\n      <td>2021-01-01</td>\n      <td>261.582</td>\n      <td>1.250086</td>\n    </tr>\n    <tr>\n      <th>2021-02-19</th>\n      <td>NORTHEAST U.S.</td>\n      <td>FRUITS</td>\n      <td>APPLES</td>\n      <td>RED DELICIOUS</td>\n      <td>NaN</td>\n      <td>NaN</td>\n      <td>per pound</td>\n      <td>54.0</td>\n      <td>1.39</td>\n      <td>1.29</td>\n      <td>1.49</td>\n      <td>NaN</td>\n      <td>2021-01-01</td>\n      <td>261.582</td>\n      <td>0.531382</td>\n    </tr>\n  </tbody>\n</table>\n</div>"
     },
     "metadata": {},
     "execution_count": 33
    }
   ],
   "source": [
    "merged_df.tail()"
   ]
  },
  {
   "cell_type": "code",
   "execution_count": null,
   "metadata": {},
   "outputs": [],
   "source": []
  }
 ],
 "metadata": {
  "kernelspec": {
   "display_name": "Python 3",
   "language": "python",
   "name": "python3"
  },
  "language_info": {
   "codemirror_mode": {
    "name": "ipython",
    "version": 3
   },
   "file_extension": ".py",
   "mimetype": "text/x-python",
   "name": "python",
   "nbconvert_exporter": "python",
   "pygments_lexer": "ipython3",
   "version": "3.8.5-final"
  }
 },
 "nbformat": 4,
 "nbformat_minor": 2
}