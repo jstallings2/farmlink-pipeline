{
 "metadata": {
  "language_info": {
   "codemirror_mode": {
    "name": "ipython",
    "version": 3
   },
   "file_extension": ".py",
   "mimetype": "text/x-python",
   "name": "python",
   "nbconvert_exporter": "python",
   "pygments_lexer": "ipython3",
   "version": "3.8.5-final"
  },
  "orig_nbformat": 2,
  "kernelspec": {
   "name": "python3",
   "display_name": "Python 3",
   "language": "python"
  }
 },
 "nbformat": 4,
 "nbformat_minor": 2,
 "cells": [
  {
   "cell_type": "code",
   "execution_count": 2,
   "metadata": {},
   "outputs": [],
   "source": [
    "import pandas as pd \n",
    "import numpy as np \n",
    "from datetime import datetime\n",
    "from datetime import timedelta\n",
    "from dateutil.relativedelta import relativedelta"
   ]
  },
  {
   "source": [
    "### Step 1: Read data into DataFrame ###"
   ],
   "cell_type": "markdown",
   "metadata": {}
  },
  {
   "cell_type": "code",
   "execution_count": 4,
   "metadata": {},
   "outputs": [
    {
     "output_type": "execute_result",
     "data": {
      "text/plain": [
       "            Unnamed: 0          Region   Class Commodity   Variety Organic  \\\n",
       "Date                                                                         \n",
       "2011-01-07           0  NORTHEAST U.S.  FRUITS    APPLES  BRAEBURN     NaN   \n",
       "2011-01-07           1  NORTHEAST U.S.  FRUITS    APPLES  BRAEBURN       Y   \n",
       "2011-01-07           2  NORTHEAST U.S.  FRUITS    APPLES  BRAEBURN       Y   \n",
       "2011-01-07           3  NORTHEAST U.S.  FRUITS    APPLES      FUJI     NaN   \n",
       "2011-01-07           4  NORTHEAST U.S.  FRUITS    APPLES      FUJI       Y   \n",
       "\n",
       "            Environment       Unit  Number of Stores  Weighted Avg Price  \\\n",
       "Date                                                                       \n",
       "2011-01-07          NaN  per pound             125.0                1.24   \n",
       "2011-01-07          NaN   3 lb bag             112.0                3.00   \n",
       "2011-01-07          NaN  per pound              91.0                1.57   \n",
       "2011-01-07          NaN  per pound              15.0                1.21   \n",
       "2011-01-07          NaN   3 lb bag             112.0                3.00   \n",
       "\n",
       "            Low Price  High Price  % Marked Local  \n",
       "Date                                               \n",
       "2011-01-07       0.88        1.49             NaN  \n",
       "2011-01-07       3.00        3.00             NaN  \n",
       "2011-01-07       1.49        1.99             NaN  \n",
       "2011-01-07       0.88        1.49             NaN  \n",
       "2011-01-07       3.00        3.00             NaN  "
      ],
      "text/html": "<div>\n<style scoped>\n    .dataframe tbody tr th:only-of-type {\n        vertical-align: middle;\n    }\n\n    .dataframe tbody tr th {\n        vertical-align: top;\n    }\n\n    .dataframe thead th {\n        text-align: right;\n    }\n</style>\n<table border=\"1\" class=\"dataframe\">\n  <thead>\n    <tr style=\"text-align: right;\">\n      <th></th>\n      <th>Unnamed: 0</th>\n      <th>Region</th>\n      <th>Class</th>\n      <th>Commodity</th>\n      <th>Variety</th>\n      <th>Organic</th>\n      <th>Environment</th>\n      <th>Unit</th>\n      <th>Number of Stores</th>\n      <th>Weighted Avg Price</th>\n      <th>Low Price</th>\n      <th>High Price</th>\n      <th>% Marked Local</th>\n    </tr>\n    <tr>\n      <th>Date</th>\n      <th></th>\n      <th></th>\n      <th></th>\n      <th></th>\n      <th></th>\n      <th></th>\n      <th></th>\n      <th></th>\n      <th></th>\n      <th></th>\n      <th></th>\n      <th></th>\n      <th></th>\n    </tr>\n  </thead>\n  <tbody>\n    <tr>\n      <th>2011-01-07</th>\n      <td>0</td>\n      <td>NORTHEAST U.S.</td>\n      <td>FRUITS</td>\n      <td>APPLES</td>\n      <td>BRAEBURN</td>\n      <td>NaN</td>\n      <td>NaN</td>\n      <td>per pound</td>\n      <td>125.0</td>\n      <td>1.24</td>\n      <td>0.88</td>\n      <td>1.49</td>\n      <td>NaN</td>\n    </tr>\n    <tr>\n      <th>2011-01-07</th>\n      <td>1</td>\n      <td>NORTHEAST U.S.</td>\n      <td>FRUITS</td>\n      <td>APPLES</td>\n      <td>BRAEBURN</td>\n      <td>Y</td>\n      <td>NaN</td>\n      <td>3 lb bag</td>\n      <td>112.0</td>\n      <td>3.00</td>\n      <td>3.00</td>\n      <td>3.00</td>\n      <td>NaN</td>\n    </tr>\n    <tr>\n      <th>2011-01-07</th>\n      <td>2</td>\n      <td>NORTHEAST U.S.</td>\n      <td>FRUITS</td>\n      <td>APPLES</td>\n      <td>BRAEBURN</td>\n      <td>Y</td>\n      <td>NaN</td>\n      <td>per pound</td>\n      <td>91.0</td>\n      <td>1.57</td>\n      <td>1.49</td>\n      <td>1.99</td>\n      <td>NaN</td>\n    </tr>\n    <tr>\n      <th>2011-01-07</th>\n      <td>3</td>\n      <td>NORTHEAST U.S.</td>\n      <td>FRUITS</td>\n      <td>APPLES</td>\n      <td>FUJI</td>\n      <td>NaN</td>\n      <td>NaN</td>\n      <td>per pound</td>\n      <td>15.0</td>\n      <td>1.21</td>\n      <td>0.88</td>\n      <td>1.49</td>\n      <td>NaN</td>\n    </tr>\n    <tr>\n      <th>2011-01-07</th>\n      <td>4</td>\n      <td>NORTHEAST U.S.</td>\n      <td>FRUITS</td>\n      <td>APPLES</td>\n      <td>FUJI</td>\n      <td>Y</td>\n      <td>NaN</td>\n      <td>3 lb bag</td>\n      <td>112.0</td>\n      <td>3.00</td>\n      <td>3.00</td>\n      <td>3.00</td>\n      <td>NaN</td>\n    </tr>\n  </tbody>\n</table>\n</div>"
     },
     "metadata": {},
     "execution_count": 4
    }
   ],
   "source": [
    "# Read the data into a dataframe\n",
    "test_regions = ['NORTHEAST+U.S.', 'SOUTHWEST+U.S.']\n",
    "#test_short = 'NX'\n",
    "test_producenames = ['CARROTS', 'APPLES']\n",
    "\n",
    "# veggies = ['APPLES','APRICOTS','ASPARAGUS','AVOCADOS','BANANAS','BEANS','BEETS','BLACKBERRIES','BLUEBERRIES','BROCCOLI','BRUSSELS+SPROUTS','CABBAGE','CANTALOUPS','CARROTS','CAULIFLOWER','CELERY','CHERRIES','CLEMENTINES','CORN-SWEET','CRANBERRIES', 'CUCUMBERS','EGGPLANT','ENDIVE','GARLIC','GINGER+ROOT','GRAPEFRUIT','GRAPES','HONEYDEWS','KALE+GREENS','KIWIFRUIT','KOHLRABI','LEMONS','LETTUCE%2C+ICEBERG','LETTUCE%2C+ROMAINE','LETTUCE%2C+RED+LEAF','LETTUCE%2C+GREEN+LEAF','LETTUCE%2C+BIBB', 'LIMES','MANGOES','MUSHROOMS','NECTARINES','OKRA','ORANGES','PEACHES','PEARS','PEAS+GREEN','PEPPERS%2C+BELL+TYPE','PINEAPPLES','PLUMS','POTATOES','PUMPKINS','RADISHES','RASPBERRIES','RHUBARB','SPINACH','SQUASH','STRAWBERRIES','SWEET+POTATOES','TOMATOES','TURNIPS','WATERMELONS']\n",
    "# regions = ['NORTHEAST+U.S.', 'SOUTHEAST+U.S.', 'MIDWEST+U.S.', 'SOUTH+CENTRAL+U.S.', 'SOUTHWEST+U.S.', 'NORTHWEST+U.S.', 'HAWAII', 'ALASKA']\n",
    "region = 'NORTHEAST+U.S.'\n",
    "veg = 'APPLES'\n",
    "variety = 'JONATHAN'\n",
    "\n",
    "results_df = pd.DataFrame()\n",
    "\n",
    "# TODO: Modify to loop through every region and veggie\n",
    "filepath = \"./concat_data/\" + region + \"_\" + veg + \"_ALL.csv\"\n",
    "df = pd.read_csv(filepath, parse_dates=True, index_col='Date')\n",
    "df.head()"
   ]
  },
  {
   "source": [
    "### EDA ###\n",
    "The next section is just for exploring the data and won't be part of the automated pipeline"
   ],
   "cell_type": "markdown",
   "metadata": {}
  },
  {
   "cell_type": "code",
   "execution_count": 6,
   "metadata": {},
   "outputs": [
    {
     "output_type": "execute_result",
     "data": {
      "text/plain": [
       "GALA                     2034\n",
       "RED DELICIOUS            1856\n",
       "GRANNY SMITH             1413\n",
       "FUJI                     1303\n",
       "GOLDEN DELICIOUS         1187\n",
       "MCINTOSH                  831\n",
       "HONEYCRISP                663\n",
       "PINK LADY/CRIPPS PINK     602\n",
       "BRAEBURN                  560\n",
       "JONAGOLD                  245\n",
       "ROME                      219\n",
       "GINGER GOLD               162\n",
       "PAULA RED                  64\n",
       "JONATHAN                   14\n",
       "Name: Variety, dtype: int64"
      ]
     },
     "metadata": {},
     "execution_count": 6
    }
   ],
   "source": [
    "# Exploring data types and EDA\n",
    "df.Variety.value_counts()\n",
    "# TODO: Make a list of the different 'Varieties' and make a diff calculation for each of them"
   ]
  },
  {
   "cell_type": "code",
   "execution_count": 8,
   "metadata": {},
   "outputs": [
    {
     "output_type": "stream",
     "name": "stdout",
     "text": [
      "11\n0\n"
     ]
    },
    {
     "output_type": "display_data",
     "data": {
      "text/plain": "<Figure size 432x288 with 1 Axes>",
      "image/svg+xml": "<?xml version=\"1.0\" encoding=\"utf-8\" standalone=\"no\"?>\n<!DOCTYPE svg PUBLIC \"-//W3C//DTD SVG 1.1//EN\"\n  \"http://www.w3.org/Graphics/SVG/1.1/DTD/svg11.dtd\">\n<!-- Created with matplotlib (https://matplotlib.org/) -->\n<svg height=\"248.518125pt\" version=\"1.1\" viewBox=\"0 0 381.65 248.518125\" width=\"381.65pt\" xmlns=\"http://www.w3.org/2000/svg\" xmlns:xlink=\"http://www.w3.org/1999/xlink\">\n <metadata>\n  <rdf:RDF xmlns:cc=\"http://creativecommons.org/ns#\" xmlns:dc=\"http://purl.org/dc/elements/1.1/\" xmlns:rdf=\"http://www.w3.org/1999/02/22-rdf-syntax-ns#\">\n   <cc:Work>\n    <dc:type rdf:resource=\"http://purl.org/dc/dcmitype/StillImage\"/>\n    <dc:date>2021-02-20T12:43:02.297351</dc:date>\n    <dc:format>image/svg+xml</dc:format>\n    <dc:creator>\n     <cc:Agent>\n      <dc:title>Matplotlib v3.3.2, https://matplotlib.org/</dc:title>\n     </cc:Agent>\n    </dc:creator>\n   </cc:Work>\n  </rdf:RDF>\n </metadata>\n <defs>\n  <style type=\"text/css\">*{stroke-linecap:butt;stroke-linejoin:round;}</style>\n </defs>\n <g id=\"figure_1\">\n  <g id=\"patch_1\">\n   <path d=\"M -0 248.518125 \nL 381.65 248.518125 \nL 381.65 0 \nL -0 0 \nz\n\" style=\"fill:none;\"/>\n  </g>\n  <g id=\"axes_1\">\n   <g id=\"patch_2\">\n    <path d=\"M 39.65 224.64 \nL 374.45 224.64 \nL 374.45 7.2 \nL 39.65 7.2 \nz\n\" style=\"fill:#ffffff;\"/>\n   </g>\n   <g id=\"patch_3\">\n    <path clip-path=\"url(#p33080cd866)\" d=\"M 54.868182 224.64 \nL 85.304545 224.64 \nL 85.304545 171.487051 \nL 54.868182 171.487051 \nz\n\" style=\"fill:#1f77b4;\"/>\n   </g>\n   <g id=\"patch_4\">\n    <path clip-path=\"url(#p33080cd866)\" d=\"M 85.304545 224.64 \nL 115.740909 224.64 \nL 115.740909 17.554286 \nL 85.304545 17.554286 \nz\n\" style=\"fill:#1f77b4;\"/>\n   </g>\n   <g id=\"patch_5\">\n    <path clip-path=\"url(#p33080cd866)\" d=\"M 115.740909 224.64 \nL 146.177273 224.64 \nL 146.177273 79.138786 \nL 115.740909 79.138786 \nz\n\" style=\"fill:#1f77b4;\"/>\n   </g>\n   <g id=\"patch_6\">\n    <path clip-path=\"url(#p33080cd866)\" d=\"M 146.177273 224.64 \nL 176.613636 224.64 \nL 176.613636 131.779006 \nL 146.177273 131.779006 \nz\n\" style=\"fill:#1f77b4;\"/>\n   </g>\n   <g id=\"patch_7\">\n    <path clip-path=\"url(#p33080cd866)\" d=\"M 176.613636 224.64 \nL 207.05 224.64 \nL 207.05 171.316141 \nL 176.613636 171.316141 \nz\n\" style=\"fill:#1f77b4;\"/>\n   </g>\n   <g id=\"patch_8\">\n    <path clip-path=\"url(#p33080cd866)\" d=\"M 207.05 224.64 \nL 237.486364 224.64 \nL 237.486364 205.498102 \nL 207.05 205.498102 \nz\n\" style=\"fill:#1f77b4;\"/>\n   </g>\n   <g id=\"patch_9\">\n    <path clip-path=\"url(#p33080cd866)\" d=\"M 237.486364 224.64 \nL 267.922727 224.64 \nL 267.922727 180.146481 \nL 237.486364 180.146481 \nz\n\" style=\"fill:#1f77b4;\"/>\n   </g>\n   <g id=\"patch_10\">\n    <path clip-path=\"url(#p33080cd866)\" d=\"M 267.922727 224.64 \nL 298.359091 224.64 \nL 298.359091 208.403568 \nL 267.922727 208.403568 \nz\n\" style=\"fill:#1f77b4;\"/>\n   </g>\n   <g id=\"patch_11\">\n    <path clip-path=\"url(#p33080cd866)\" d=\"M 298.359091 224.64 \nL 328.795455 224.64 \nL 328.795455 221.620593 \nL 298.359091 221.620593 \nz\n\" style=\"fill:#1f77b4;\"/>\n   </g>\n   <g id=\"patch_12\">\n    <path clip-path=\"url(#p33080cd866)\" d=\"M 328.795455 224.64 \nL 359.231818 224.64 \nL 359.231818 224.070301 \nL 328.795455 224.070301 \nz\n\" style=\"fill:#1f77b4;\"/>\n   </g>\n   <g id=\"matplotlib.axis_1\">\n    <g id=\"xtick_1\">\n     <g id=\"line2d_1\">\n      <path clip-path=\"url(#p33080cd866)\" d=\"M 75.564909 224.64 \nL 75.564909 7.2 \n\" style=\"fill:none;stroke:#b0b0b0;stroke-linecap:square;stroke-width:0.8;\"/>\n     </g>\n     <g id=\"line2d_2\">\n      <defs>\n       <path d=\"M 0 0 \nL 0 3.5 \n\" id=\"m5a275573b8\" style=\"stroke:#000000;stroke-width:0.8;\"/>\n      </defs>\n      <g>\n       <use style=\"stroke:#000000;stroke-width:0.8;\" x=\"75.564909\" xlink:href=\"#m5a275573b8\" y=\"224.64\"/>\n      </g>\n     </g>\n     <g id=\"text_1\">\n      <!-- 1 -->\n      <g transform=\"translate(72.383659 239.238437)scale(0.1 -0.1)\">\n       <defs>\n        <path d=\"M 12.40625 8.296875 \nL 28.515625 8.296875 \nL 28.515625 63.921875 \nL 10.984375 60.40625 \nL 10.984375 69.390625 \nL 28.421875 72.90625 \nL 38.28125 72.90625 \nL 38.28125 8.296875 \nL 54.390625 8.296875 \nL 54.390625 0 \nL 12.40625 0 \nz\n\" id=\"DejaVuSans-49\"/>\n       </defs>\n       <use xlink:href=\"#DejaVuSans-49\"/>\n      </g>\n     </g>\n    </g>\n    <g id=\"xtick_2\">\n     <g id=\"line2d_3\">\n      <path clip-path=\"url(#p33080cd866)\" d=\"M 116.146727 224.64 \nL 116.146727 7.2 \n\" style=\"fill:none;stroke:#b0b0b0;stroke-linecap:square;stroke-width:0.8;\"/>\n     </g>\n     <g id=\"line2d_4\">\n      <g>\n       <use style=\"stroke:#000000;stroke-width:0.8;\" x=\"116.146727\" xlink:href=\"#m5a275573b8\" y=\"224.64\"/>\n      </g>\n     </g>\n     <g id=\"text_2\">\n      <!-- 2 -->\n      <g transform=\"translate(112.965477 239.238437)scale(0.1 -0.1)\">\n       <defs>\n        <path d=\"M 19.1875 8.296875 \nL 53.609375 8.296875 \nL 53.609375 0 \nL 7.328125 0 \nL 7.328125 8.296875 \nQ 12.9375 14.109375 22.625 23.890625 \nQ 32.328125 33.6875 34.8125 36.53125 \nQ 39.546875 41.84375 41.421875 45.53125 \nQ 43.3125 49.21875 43.3125 52.78125 \nQ 43.3125 58.59375 39.234375 62.25 \nQ 35.15625 65.921875 28.609375 65.921875 \nQ 23.96875 65.921875 18.8125 64.3125 \nQ 13.671875 62.703125 7.8125 59.421875 \nL 7.8125 69.390625 \nQ 13.765625 71.78125 18.9375 73 \nQ 24.125 74.21875 28.421875 74.21875 \nQ 39.75 74.21875 46.484375 68.546875 \nQ 53.21875 62.890625 53.21875 53.421875 \nQ 53.21875 48.921875 51.53125 44.890625 \nQ 49.859375 40.875 45.40625 35.40625 \nQ 44.1875 33.984375 37.640625 27.21875 \nQ 31.109375 20.453125 19.1875 8.296875 \nz\n\" id=\"DejaVuSans-50\"/>\n       </defs>\n       <use xlink:href=\"#DejaVuSans-50\"/>\n      </g>\n     </g>\n    </g>\n    <g id=\"xtick_3\">\n     <g id=\"line2d_5\">\n      <path clip-path=\"url(#p33080cd866)\" d=\"M 156.728545 224.64 \nL 156.728545 7.2 \n\" style=\"fill:none;stroke:#b0b0b0;stroke-linecap:square;stroke-width:0.8;\"/>\n     </g>\n     <g id=\"line2d_6\">\n      <g>\n       <use style=\"stroke:#000000;stroke-width:0.8;\" x=\"156.728545\" xlink:href=\"#m5a275573b8\" y=\"224.64\"/>\n      </g>\n     </g>\n     <g id=\"text_3\">\n      <!-- 3 -->\n      <g transform=\"translate(153.547295 239.238437)scale(0.1 -0.1)\">\n       <defs>\n        <path d=\"M 40.578125 39.3125 \nQ 47.65625 37.796875 51.625 33 \nQ 55.609375 28.21875 55.609375 21.1875 \nQ 55.609375 10.40625 48.1875 4.484375 \nQ 40.765625 -1.421875 27.09375 -1.421875 \nQ 22.515625 -1.421875 17.65625 -0.515625 \nQ 12.796875 0.390625 7.625 2.203125 \nL 7.625 11.71875 \nQ 11.71875 9.328125 16.59375 8.109375 \nQ 21.484375 6.890625 26.8125 6.890625 \nQ 36.078125 6.890625 40.9375 10.546875 \nQ 45.796875 14.203125 45.796875 21.1875 \nQ 45.796875 27.640625 41.28125 31.265625 \nQ 36.765625 34.90625 28.71875 34.90625 \nL 20.21875 34.90625 \nL 20.21875 43.015625 \nL 29.109375 43.015625 \nQ 36.375 43.015625 40.234375 45.921875 \nQ 44.09375 48.828125 44.09375 54.296875 \nQ 44.09375 59.90625 40.109375 62.90625 \nQ 36.140625 65.921875 28.71875 65.921875 \nQ 24.65625 65.921875 20.015625 65.03125 \nQ 15.375 64.15625 9.8125 62.3125 \nL 9.8125 71.09375 \nQ 15.4375 72.65625 20.34375 73.4375 \nQ 25.25 74.21875 29.59375 74.21875 \nQ 40.828125 74.21875 47.359375 69.109375 \nQ 53.90625 64.015625 53.90625 55.328125 \nQ 53.90625 49.265625 50.4375 45.09375 \nQ 46.96875 40.921875 40.578125 39.3125 \nz\n\" id=\"DejaVuSans-51\"/>\n       </defs>\n       <use xlink:href=\"#DejaVuSans-51\"/>\n      </g>\n     </g>\n    </g>\n    <g id=\"xtick_4\">\n     <g id=\"line2d_7\">\n      <path clip-path=\"url(#p33080cd866)\" d=\"M 197.310364 224.64 \nL 197.310364 7.2 \n\" style=\"fill:none;stroke:#b0b0b0;stroke-linecap:square;stroke-width:0.8;\"/>\n     </g>\n     <g id=\"line2d_8\">\n      <g>\n       <use style=\"stroke:#000000;stroke-width:0.8;\" x=\"197.310364\" xlink:href=\"#m5a275573b8\" y=\"224.64\"/>\n      </g>\n     </g>\n     <g id=\"text_4\">\n      <!-- 4 -->\n      <g transform=\"translate(194.129114 239.238437)scale(0.1 -0.1)\">\n       <defs>\n        <path d=\"M 37.796875 64.3125 \nL 12.890625 25.390625 \nL 37.796875 25.390625 \nz\nM 35.203125 72.90625 \nL 47.609375 72.90625 \nL 47.609375 25.390625 \nL 58.015625 25.390625 \nL 58.015625 17.1875 \nL 47.609375 17.1875 \nL 47.609375 0 \nL 37.796875 0 \nL 37.796875 17.1875 \nL 4.890625 17.1875 \nL 4.890625 26.703125 \nz\n\" id=\"DejaVuSans-52\"/>\n       </defs>\n       <use xlink:href=\"#DejaVuSans-52\"/>\n      </g>\n     </g>\n    </g>\n    <g id=\"xtick_5\">\n     <g id=\"line2d_9\">\n      <path clip-path=\"url(#p33080cd866)\" d=\"M 237.892182 224.64 \nL 237.892182 7.2 \n\" style=\"fill:none;stroke:#b0b0b0;stroke-linecap:square;stroke-width:0.8;\"/>\n     </g>\n     <g id=\"line2d_10\">\n      <g>\n       <use style=\"stroke:#000000;stroke-width:0.8;\" x=\"237.892182\" xlink:href=\"#m5a275573b8\" y=\"224.64\"/>\n      </g>\n     </g>\n     <g id=\"text_5\">\n      <!-- 5 -->\n      <g transform=\"translate(234.710932 239.238437)scale(0.1 -0.1)\">\n       <defs>\n        <path d=\"M 10.796875 72.90625 \nL 49.515625 72.90625 \nL 49.515625 64.59375 \nL 19.828125 64.59375 \nL 19.828125 46.734375 \nQ 21.96875 47.46875 24.109375 47.828125 \nQ 26.265625 48.1875 28.421875 48.1875 \nQ 40.625 48.1875 47.75 41.5 \nQ 54.890625 34.8125 54.890625 23.390625 \nQ 54.890625 11.625 47.5625 5.09375 \nQ 40.234375 -1.421875 26.90625 -1.421875 \nQ 22.3125 -1.421875 17.546875 -0.640625 \nQ 12.796875 0.140625 7.71875 1.703125 \nL 7.71875 11.625 \nQ 12.109375 9.234375 16.796875 8.0625 \nQ 21.484375 6.890625 26.703125 6.890625 \nQ 35.15625 6.890625 40.078125 11.328125 \nQ 45.015625 15.765625 45.015625 23.390625 \nQ 45.015625 31 40.078125 35.4375 \nQ 35.15625 39.890625 26.703125 39.890625 \nQ 22.75 39.890625 18.8125 39.015625 \nQ 14.890625 38.140625 10.796875 36.28125 \nz\n\" id=\"DejaVuSans-53\"/>\n       </defs>\n       <use xlink:href=\"#DejaVuSans-53\"/>\n      </g>\n     </g>\n    </g>\n    <g id=\"xtick_6\">\n     <g id=\"line2d_11\">\n      <path clip-path=\"url(#p33080cd866)\" d=\"M 278.474 224.64 \nL 278.474 7.2 \n\" style=\"fill:none;stroke:#b0b0b0;stroke-linecap:square;stroke-width:0.8;\"/>\n     </g>\n     <g id=\"line2d_12\">\n      <g>\n       <use style=\"stroke:#000000;stroke-width:0.8;\" x=\"278.474\" xlink:href=\"#m5a275573b8\" y=\"224.64\"/>\n      </g>\n     </g>\n     <g id=\"text_6\">\n      <!-- 6 -->\n      <g transform=\"translate(275.29275 239.238437)scale(0.1 -0.1)\">\n       <defs>\n        <path d=\"M 33.015625 40.375 \nQ 26.375 40.375 22.484375 35.828125 \nQ 18.609375 31.296875 18.609375 23.390625 \nQ 18.609375 15.53125 22.484375 10.953125 \nQ 26.375 6.390625 33.015625 6.390625 \nQ 39.65625 6.390625 43.53125 10.953125 \nQ 47.40625 15.53125 47.40625 23.390625 \nQ 47.40625 31.296875 43.53125 35.828125 \nQ 39.65625 40.375 33.015625 40.375 \nz\nM 52.59375 71.296875 \nL 52.59375 62.3125 \nQ 48.875 64.0625 45.09375 64.984375 \nQ 41.3125 65.921875 37.59375 65.921875 \nQ 27.828125 65.921875 22.671875 59.328125 \nQ 17.53125 52.734375 16.796875 39.40625 \nQ 19.671875 43.65625 24.015625 45.921875 \nQ 28.375 48.1875 33.59375 48.1875 \nQ 44.578125 48.1875 50.953125 41.515625 \nQ 57.328125 34.859375 57.328125 23.390625 \nQ 57.328125 12.15625 50.6875 5.359375 \nQ 44.046875 -1.421875 33.015625 -1.421875 \nQ 20.359375 -1.421875 13.671875 8.265625 \nQ 6.984375 17.96875 6.984375 36.375 \nQ 6.984375 53.65625 15.1875 63.9375 \nQ 23.390625 74.21875 37.203125 74.21875 \nQ 40.921875 74.21875 44.703125 73.484375 \nQ 48.484375 72.75 52.59375 71.296875 \nz\n\" id=\"DejaVuSans-54\"/>\n       </defs>\n       <use xlink:href=\"#DejaVuSans-54\"/>\n      </g>\n     </g>\n    </g>\n    <g id=\"xtick_7\">\n     <g id=\"line2d_13\">\n      <path clip-path=\"url(#p33080cd866)\" d=\"M 319.055818 224.64 \nL 319.055818 7.2 \n\" style=\"fill:none;stroke:#b0b0b0;stroke-linecap:square;stroke-width:0.8;\"/>\n     </g>\n     <g id=\"line2d_14\">\n      <g>\n       <use style=\"stroke:#000000;stroke-width:0.8;\" x=\"319.055818\" xlink:href=\"#m5a275573b8\" y=\"224.64\"/>\n      </g>\n     </g>\n     <g id=\"text_7\">\n      <!-- 7 -->\n      <g transform=\"translate(315.874568 239.238437)scale(0.1 -0.1)\">\n       <defs>\n        <path d=\"M 8.203125 72.90625 \nL 55.078125 72.90625 \nL 55.078125 68.703125 \nL 28.609375 0 \nL 18.3125 0 \nL 43.21875 64.59375 \nL 8.203125 64.59375 \nz\n\" id=\"DejaVuSans-55\"/>\n       </defs>\n       <use xlink:href=\"#DejaVuSans-55\"/>\n      </g>\n     </g>\n    </g>\n    <g id=\"xtick_8\">\n     <g id=\"line2d_15\">\n      <path clip-path=\"url(#p33080cd866)\" d=\"M 359.637636 224.64 \nL 359.637636 7.2 \n\" style=\"fill:none;stroke:#b0b0b0;stroke-linecap:square;stroke-width:0.8;\"/>\n     </g>\n     <g id=\"line2d_16\">\n      <g>\n       <use style=\"stroke:#000000;stroke-width:0.8;\" x=\"359.637636\" xlink:href=\"#m5a275573b8\" y=\"224.64\"/>\n      </g>\n     </g>\n     <g id=\"text_8\">\n      <!-- 8 -->\n      <g transform=\"translate(356.456386 239.238437)scale(0.1 -0.1)\">\n       <defs>\n        <path d=\"M 31.78125 34.625 \nQ 24.75 34.625 20.71875 30.859375 \nQ 16.703125 27.09375 16.703125 20.515625 \nQ 16.703125 13.921875 20.71875 10.15625 \nQ 24.75 6.390625 31.78125 6.390625 \nQ 38.8125 6.390625 42.859375 10.171875 \nQ 46.921875 13.96875 46.921875 20.515625 \nQ 46.921875 27.09375 42.890625 30.859375 \nQ 38.875 34.625 31.78125 34.625 \nz\nM 21.921875 38.8125 \nQ 15.578125 40.375 12.03125 44.71875 \nQ 8.5 49.078125 8.5 55.328125 \nQ 8.5 64.0625 14.71875 69.140625 \nQ 20.953125 74.21875 31.78125 74.21875 \nQ 42.671875 74.21875 48.875 69.140625 \nQ 55.078125 64.0625 55.078125 55.328125 \nQ 55.078125 49.078125 51.53125 44.71875 \nQ 48 40.375 41.703125 38.8125 \nQ 48.828125 37.15625 52.796875 32.3125 \nQ 56.78125 27.484375 56.78125 20.515625 \nQ 56.78125 9.90625 50.3125 4.234375 \nQ 43.84375 -1.421875 31.78125 -1.421875 \nQ 19.734375 -1.421875 13.25 4.234375 \nQ 6.78125 9.90625 6.78125 20.515625 \nQ 6.78125 27.484375 10.78125 32.3125 \nQ 14.796875 37.15625 21.921875 38.8125 \nz\nM 18.3125 54.390625 \nQ 18.3125 48.734375 21.84375 45.5625 \nQ 25.390625 42.390625 31.78125 42.390625 \nQ 38.140625 42.390625 41.71875 45.5625 \nQ 45.3125 48.734375 45.3125 54.390625 \nQ 45.3125 60.0625 41.71875 63.234375 \nQ 38.140625 66.40625 31.78125 66.40625 \nQ 25.390625 66.40625 21.84375 63.234375 \nQ 18.3125 60.0625 18.3125 54.390625 \nz\n\" id=\"DejaVuSans-56\"/>\n       </defs>\n       <use xlink:href=\"#DejaVuSans-56\"/>\n      </g>\n     </g>\n    </g>\n   </g>\n   <g id=\"matplotlib.axis_2\">\n    <g id=\"ytick_1\">\n     <g id=\"line2d_17\">\n      <path clip-path=\"url(#p33080cd866)\" d=\"M 39.65 224.64 \nL 374.45 224.64 \n\" style=\"fill:none;stroke:#b0b0b0;stroke-linecap:square;stroke-width:0.8;\"/>\n     </g>\n     <g id=\"line2d_18\">\n      <defs>\n       <path d=\"M 0 0 \nL -3.5 0 \n\" id=\"m418ca3cb49\" style=\"stroke:#000000;stroke-width:0.8;\"/>\n      </defs>\n      <g>\n       <use style=\"stroke:#000000;stroke-width:0.8;\" x=\"39.65\" xlink:href=\"#m418ca3cb49\" y=\"224.64\"/>\n      </g>\n     </g>\n     <g id=\"text_9\">\n      <!-- 0 -->\n      <g transform=\"translate(26.2875 228.439219)scale(0.1 -0.1)\">\n       <defs>\n        <path d=\"M 31.78125 66.40625 \nQ 24.171875 66.40625 20.328125 58.90625 \nQ 16.5 51.421875 16.5 36.375 \nQ 16.5 21.390625 20.328125 13.890625 \nQ 24.171875 6.390625 31.78125 6.390625 \nQ 39.453125 6.390625 43.28125 13.890625 \nQ 47.125 21.390625 47.125 36.375 \nQ 47.125 51.421875 43.28125 58.90625 \nQ 39.453125 66.40625 31.78125 66.40625 \nz\nM 31.78125 74.21875 \nQ 44.046875 74.21875 50.515625 64.515625 \nQ 56.984375 54.828125 56.984375 36.375 \nQ 56.984375 17.96875 50.515625 8.265625 \nQ 44.046875 -1.421875 31.78125 -1.421875 \nQ 19.53125 -1.421875 13.0625 8.265625 \nQ 6.59375 17.96875 6.59375 36.375 \nQ 6.59375 54.828125 13.0625 64.515625 \nQ 19.53125 74.21875 31.78125 74.21875 \nz\n\" id=\"DejaVuSans-48\"/>\n       </defs>\n       <use xlink:href=\"#DejaVuSans-48\"/>\n      </g>\n     </g>\n    </g>\n    <g id=\"ytick_2\">\n     <g id=\"line2d_19\">\n      <path clip-path=\"url(#p33080cd866)\" d=\"M 39.65 196.155032 \nL 374.45 196.155032 \n\" style=\"fill:none;stroke:#b0b0b0;stroke-linecap:square;stroke-width:0.8;\"/>\n     </g>\n     <g id=\"line2d_20\">\n      <g>\n       <use style=\"stroke:#000000;stroke-width:0.8;\" x=\"39.65\" xlink:href=\"#m418ca3cb49\" y=\"196.155032\"/>\n      </g>\n     </g>\n     <g id=\"text_10\">\n      <!-- 500 -->\n      <g transform=\"translate(13.5625 199.954251)scale(0.1 -0.1)\">\n       <use xlink:href=\"#DejaVuSans-53\"/>\n       <use x=\"63.623047\" xlink:href=\"#DejaVuSans-48\"/>\n       <use x=\"127.246094\" xlink:href=\"#DejaVuSans-48\"/>\n      </g>\n     </g>\n    </g>\n    <g id=\"ytick_3\">\n     <g id=\"line2d_21\">\n      <path clip-path=\"url(#p33080cd866)\" d=\"M 39.65 167.670065 \nL 374.45 167.670065 \n\" style=\"fill:none;stroke:#b0b0b0;stroke-linecap:square;stroke-width:0.8;\"/>\n     </g>\n     <g id=\"line2d_22\">\n      <g>\n       <use style=\"stroke:#000000;stroke-width:0.8;\" x=\"39.65\" xlink:href=\"#m418ca3cb49\" y=\"167.670065\"/>\n      </g>\n     </g>\n     <g id=\"text_11\">\n      <!-- 1000 -->\n      <g transform=\"translate(7.2 171.469284)scale(0.1 -0.1)\">\n       <use xlink:href=\"#DejaVuSans-49\"/>\n       <use x=\"63.623047\" xlink:href=\"#DejaVuSans-48\"/>\n       <use x=\"127.246094\" xlink:href=\"#DejaVuSans-48\"/>\n       <use x=\"190.869141\" xlink:href=\"#DejaVuSans-48\"/>\n      </g>\n     </g>\n    </g>\n    <g id=\"ytick_4\">\n     <g id=\"line2d_23\">\n      <path clip-path=\"url(#p33080cd866)\" d=\"M 39.65 139.185097 \nL 374.45 139.185097 \n\" style=\"fill:none;stroke:#b0b0b0;stroke-linecap:square;stroke-width:0.8;\"/>\n     </g>\n     <g id=\"line2d_24\">\n      <g>\n       <use style=\"stroke:#000000;stroke-width:0.8;\" x=\"39.65\" xlink:href=\"#m418ca3cb49\" y=\"139.185097\"/>\n      </g>\n     </g>\n     <g id=\"text_12\">\n      <!-- 1500 -->\n      <g transform=\"translate(7.2 142.984316)scale(0.1 -0.1)\">\n       <use xlink:href=\"#DejaVuSans-49\"/>\n       <use x=\"63.623047\" xlink:href=\"#DejaVuSans-53\"/>\n       <use x=\"127.246094\" xlink:href=\"#DejaVuSans-48\"/>\n       <use x=\"190.869141\" xlink:href=\"#DejaVuSans-48\"/>\n      </g>\n     </g>\n    </g>\n    <g id=\"ytick_5\">\n     <g id=\"line2d_25\">\n      <path clip-path=\"url(#p33080cd866)\" d=\"M 39.65 110.70013 \nL 374.45 110.70013 \n\" style=\"fill:none;stroke:#b0b0b0;stroke-linecap:square;stroke-width:0.8;\"/>\n     </g>\n     <g id=\"line2d_26\">\n      <g>\n       <use style=\"stroke:#000000;stroke-width:0.8;\" x=\"39.65\" xlink:href=\"#m418ca3cb49\" y=\"110.70013\"/>\n      </g>\n     </g>\n     <g id=\"text_13\">\n      <!-- 2000 -->\n      <g transform=\"translate(7.2 114.499348)scale(0.1 -0.1)\">\n       <use xlink:href=\"#DejaVuSans-50\"/>\n       <use x=\"63.623047\" xlink:href=\"#DejaVuSans-48\"/>\n       <use x=\"127.246094\" xlink:href=\"#DejaVuSans-48\"/>\n       <use x=\"190.869141\" xlink:href=\"#DejaVuSans-48\"/>\n      </g>\n     </g>\n    </g>\n    <g id=\"ytick_6\">\n     <g id=\"line2d_27\">\n      <path clip-path=\"url(#p33080cd866)\" d=\"M 39.65 82.215162 \nL 374.45 82.215162 \n\" style=\"fill:none;stroke:#b0b0b0;stroke-linecap:square;stroke-width:0.8;\"/>\n     </g>\n     <g id=\"line2d_28\">\n      <g>\n       <use style=\"stroke:#000000;stroke-width:0.8;\" x=\"39.65\" xlink:href=\"#m418ca3cb49\" y=\"82.215162\"/>\n      </g>\n     </g>\n     <g id=\"text_14\">\n      <!-- 2500 -->\n      <g transform=\"translate(7.2 86.014381)scale(0.1 -0.1)\">\n       <use xlink:href=\"#DejaVuSans-50\"/>\n       <use x=\"63.623047\" xlink:href=\"#DejaVuSans-53\"/>\n       <use x=\"127.246094\" xlink:href=\"#DejaVuSans-48\"/>\n       <use x=\"190.869141\" xlink:href=\"#DejaVuSans-48\"/>\n      </g>\n     </g>\n    </g>\n    <g id=\"ytick_7\">\n     <g id=\"line2d_29\">\n      <path clip-path=\"url(#p33080cd866)\" d=\"M 39.65 53.730195 \nL 374.45 53.730195 \n\" style=\"fill:none;stroke:#b0b0b0;stroke-linecap:square;stroke-width:0.8;\"/>\n     </g>\n     <g id=\"line2d_30\">\n      <g>\n       <use style=\"stroke:#000000;stroke-width:0.8;\" x=\"39.65\" xlink:href=\"#m418ca3cb49\" y=\"53.730195\"/>\n      </g>\n     </g>\n     <g id=\"text_15\">\n      <!-- 3000 -->\n      <g transform=\"translate(7.2 57.529413)scale(0.1 -0.1)\">\n       <use xlink:href=\"#DejaVuSans-51\"/>\n       <use x=\"63.623047\" xlink:href=\"#DejaVuSans-48\"/>\n       <use x=\"127.246094\" xlink:href=\"#DejaVuSans-48\"/>\n       <use x=\"190.869141\" xlink:href=\"#DejaVuSans-48\"/>\n      </g>\n     </g>\n    </g>\n    <g id=\"ytick_8\">\n     <g id=\"line2d_31\">\n      <path clip-path=\"url(#p33080cd866)\" d=\"M 39.65 25.245227 \nL 374.45 25.245227 \n\" style=\"fill:none;stroke:#b0b0b0;stroke-linecap:square;stroke-width:0.8;\"/>\n     </g>\n     <g id=\"line2d_32\">\n      <g>\n       <use style=\"stroke:#000000;stroke-width:0.8;\" x=\"39.65\" xlink:href=\"#m418ca3cb49\" y=\"25.245227\"/>\n      </g>\n     </g>\n     <g id=\"text_16\">\n      <!-- 3500 -->\n      <g transform=\"translate(7.2 29.044446)scale(0.1 -0.1)\">\n       <use xlink:href=\"#DejaVuSans-51\"/>\n       <use x=\"63.623047\" xlink:href=\"#DejaVuSans-53\"/>\n       <use x=\"127.246094\" xlink:href=\"#DejaVuSans-48\"/>\n       <use x=\"190.869141\" xlink:href=\"#DejaVuSans-48\"/>\n      </g>\n     </g>\n    </g>\n   </g>\n   <g id=\"patch_13\">\n    <path d=\"M 39.65 224.64 \nL 39.65 7.2 \n\" style=\"fill:none;stroke:#000000;stroke-linecap:square;stroke-linejoin:miter;stroke-width:0.8;\"/>\n   </g>\n   <g id=\"patch_14\">\n    <path d=\"M 374.45 224.64 \nL 374.45 7.2 \n\" style=\"fill:none;stroke:#000000;stroke-linecap:square;stroke-linejoin:miter;stroke-width:0.8;\"/>\n   </g>\n   <g id=\"patch_15\">\n    <path d=\"M 39.65 224.64 \nL 374.45 224.64 \n\" style=\"fill:none;stroke:#000000;stroke-linecap:square;stroke-linejoin:miter;stroke-width:0.8;\"/>\n   </g>\n   <g id=\"patch_16\">\n    <path d=\"M 39.65 7.2 \nL 374.45 7.2 \n\" style=\"fill:none;stroke:#000000;stroke-linecap:square;stroke-linejoin:miter;stroke-width:0.8;\"/>\n   </g>\n  </g>\n </g>\n <defs>\n  <clipPath id=\"p33080cd866\">\n   <rect height=\"217.44\" width=\"334.8\" x=\"39.65\" y=\"7.2\"/>\n  </clipPath>\n </defs>\n</svg>\n",
      "image/png": "[encoded data removed]"
     },
     "metadata": {
      "needs_background": "light"
     }
    }
   ],
   "source": [
    "df['Weighted Avg Price'].hist()\n",
    "print(sum(df['Weighted Avg Price'].isna() == True))\n",
    "print(sum(df['Weighted Avg Price'] <= 0))"
   ]
  },
  {
   "cell_type": "code",
   "execution_count": 10,
   "metadata": {},
   "outputs": [
    {
     "output_type": "execute_result",
     "data": {
      "text/plain": [
       "      Unnamed: 0 Region Class Commodity Variety Organic  Environment Unit  \\\n",
       "Date                                                                        \n",
       "NaT          802    NaN   NaN       NaN     NaN     NaN          NaN  NaN   \n",
       "NaT         1661    NaN   NaN       NaN     NaN     NaN          NaN  NaN   \n",
       "NaT         2570    NaN   NaN       NaN     NaN     NaN          NaN  NaN   \n",
       "NaT         3582    NaN   NaN       NaN     NaN     NaN          NaN  NaN   \n",
       "NaT         4756    NaN   NaN       NaN     NaN     NaN          NaN  NaN   \n",
       "NaT         5884    NaN   NaN       NaN     NaN     NaN          NaN  NaN   \n",
       "NaT         7095    NaN   NaN       NaN     NaN     NaN          NaN  NaN   \n",
       "NaT         8387    NaN   NaN       NaN     NaN     NaN          NaN  NaN   \n",
       "NaT         9718    NaN   NaN       NaN     NaN     NaN          NaN  NaN   \n",
       "NaT        11021    NaN   NaN       NaN     NaN     NaN          NaN  NaN   \n",
       "NaT        11163    NaN   NaN       NaN     NaN     NaN          NaN  NaN   \n",
       "\n",
       "      Number of Stores  Weighted Avg Price  Low Price  High Price  \\\n",
       "Date                                                                \n",
       "NaT                NaN                 NaN        NaN         NaN   \n",
       "NaT                NaN                 NaN        NaN         NaN   \n",
       "NaT                NaN                 NaN        NaN         NaN   \n",
       "NaT                NaN                 NaN        NaN         NaN   \n",
       "NaT                NaN                 NaN        NaN         NaN   \n",
       "NaT                NaN                 NaN        NaN         NaN   \n",
       "NaT                NaN                 NaN        NaN         NaN   \n",
       "NaT                NaN                 NaN        NaN         NaN   \n",
       "NaT                NaN                 NaN        NaN         NaN   \n",
       "NaT                NaN                 NaN        NaN         NaN   \n",
       "NaT                NaN                 NaN        NaN         NaN   \n",
       "\n",
       "      % Marked Local  \n",
       "Date                  \n",
       "NaT              NaN  \n",
       "NaT              NaN  \n",
       "NaT              NaN  \n",
       "NaT              NaN  \n",
       "NaT              NaN  \n",
       "NaT              NaN  \n",
       "NaT              NaN  \n",
       "NaT              NaN  \n",
       "NaT              NaN  \n",
       "NaT              NaN  \n",
       "NaT              NaN  "
      ],
      "text/html": "<div>\n<style scoped>\n    .dataframe tbody tr th:only-of-type {\n        vertical-align: middle;\n    }\n\n    .dataframe tbody tr th {\n        vertical-align: top;\n    }\n\n    .dataframe thead th {\n        text-align: right;\n    }\n</style>\n<table border=\"1\" class=\"dataframe\">\n  <thead>\n    <tr style=\"text-align: right;\">\n      <th></th>\n      <th>Unnamed: 0</th>\n      <th>Region</th>\n      <th>Class</th>\n      <th>Commodity</th>\n      <th>Variety</th>\n      <th>Organic</th>\n      <th>Environment</th>\n      <th>Unit</th>\n      <th>Number of Stores</th>\n      <th>Weighted Avg Price</th>\n      <th>Low Price</th>\n      <th>High Price</th>\n      <th>% Marked Local</th>\n    </tr>\n    <tr>\n      <th>Date</th>\n      <th></th>\n      <th></th>\n      <th></th>\n      <th></th>\n      <th></th>\n      <th></th>\n      <th></th>\n      <th></th>\n      <th></th>\n      <th></th>\n      <th></th>\n      <th></th>\n      <th></th>\n    </tr>\n  </thead>\n  <tbody>\n    <tr>\n      <th>NaT</th>\n      <td>802</td>\n      <td>NaN</td>\n      <td>NaN</td>\n      <td>NaN</td>\n      <td>NaN</td>\n      <td>NaN</td>\n      <td>NaN</td>\n      <td>NaN</td>\n      <td>NaN</td>\n      <td>NaN</td>\n      <td>NaN</td>\n      <td>NaN</td>\n      <td>NaN</td>\n    </tr>\n    <tr>\n      <th>NaT</th>\n      <td>1661</td>\n      <td>NaN</td>\n      <td>NaN</td>\n      <td>NaN</td>\n      <td>NaN</td>\n      <td>NaN</td>\n      <td>NaN</td>\n      <td>NaN</td>\n      <td>NaN</td>\n      <td>NaN</td>\n      <td>NaN</td>\n      <td>NaN</td>\n      <td>NaN</td>\n    </tr>\n    <tr>\n      <th>NaT</th>\n      <td>2570</td>\n      <td>NaN</td>\n      <td>NaN</td>\n      <td>NaN</td>\n      <td>NaN</td>\n      <td>NaN</td>\n      <td>NaN</td>\n      <td>NaN</td>\n      <td>NaN</td>\n      <td>NaN</td>\n      <td>NaN</td>\n      <td>NaN</td>\n      <td>NaN</td>\n    </tr>\n    <tr>\n      <th>NaT</th>\n      <td>3582</td>\n      <td>NaN</td>\n      <td>NaN</td>\n      <td>NaN</td>\n      <td>NaN</td>\n      <td>NaN</td>\n      <td>NaN</td>\n      <td>NaN</td>\n      <td>NaN</td>\n      <td>NaN</td>\n      <td>NaN</td>\n      <td>NaN</td>\n      <td>NaN</td>\n    </tr>\n    <tr>\n      <th>NaT</th>\n      <td>4756</td>\n      <td>NaN</td>\n      <td>NaN</td>\n      <td>NaN</td>\n      <td>NaN</td>\n      <td>NaN</td>\n      <td>NaN</td>\n      <td>NaN</td>\n      <td>NaN</td>\n      <td>NaN</td>\n      <td>NaN</td>\n      <td>NaN</td>\n      <td>NaN</td>\n    </tr>\n    <tr>\n      <th>NaT</th>\n      <td>5884</td>\n      <td>NaN</td>\n      <td>NaN</td>\n      <td>NaN</td>\n      <td>NaN</td>\n      <td>NaN</td>\n      <td>NaN</td>\n      <td>NaN</td>\n      <td>NaN</td>\n      <td>NaN</td>\n      <td>NaN</td>\n      <td>NaN</td>\n      <td>NaN</td>\n    </tr>\n    <tr>\n      <th>NaT</th>\n      <td>7095</td>\n      <td>NaN</td>\n      <td>NaN</td>\n      <td>NaN</td>\n      <td>NaN</td>\n      <td>NaN</td>\n      <td>NaN</td>\n      <td>NaN</td>\n      <td>NaN</td>\n      <td>NaN</td>\n      <td>NaN</td>\n      <td>NaN</td>\n      <td>NaN</td>\n    </tr>\n    <tr>\n      <th>NaT</th>\n      <td>8387</td>\n      <td>NaN</td>\n      <td>NaN</td>\n      <td>NaN</td>\n      <td>NaN</td>\n      <td>NaN</td>\n      <td>NaN</td>\n      <td>NaN</td>\n      <td>NaN</td>\n      <td>NaN</td>\n      <td>NaN</td>\n      <td>NaN</td>\n      <td>NaN</td>\n    </tr>\n    <tr>\n      <th>NaT</th>\n      <td>9718</td>\n      <td>NaN</td>\n      <td>NaN</td>\n      <td>NaN</td>\n      <td>NaN</td>\n      <td>NaN</td>\n      <td>NaN</td>\n      <td>NaN</td>\n      <td>NaN</td>\n      <td>NaN</td>\n      <td>NaN</td>\n      <td>NaN</td>\n      <td>NaN</td>\n    </tr>\n    <tr>\n      <th>NaT</th>\n      <td>11021</td>\n      <td>NaN</td>\n      <td>NaN</td>\n      <td>NaN</td>\n      <td>NaN</td>\n      <td>NaN</td>\n      <td>NaN</td>\n      <td>NaN</td>\n      <td>NaN</td>\n      <td>NaN</td>\n      <td>NaN</td>\n      <td>NaN</td>\n      <td>NaN</td>\n    </tr>\n    <tr>\n      <th>NaT</th>\n      <td>11163</td>\n      <td>NaN</td>\n      <td>NaN</td>\n      <td>NaN</td>\n      <td>NaN</td>\n      <td>NaN</td>\n      <td>NaN</td>\n      <td>NaN</td>\n      <td>NaN</td>\n      <td>NaN</td>\n      <td>NaN</td>\n      <td>NaN</td>\n      <td>NaN</td>\n    </tr>\n  </tbody>\n</table>\n</div>"
     },
     "metadata": {},
     "execution_count": 10
    }
   ],
   "source": [
    "missing_price = df[df['Weighted Avg Price'].isna() == True]\n",
    "missing_price"
   ]
  },
  {
   "source": [
    "### END EDA ###\n",
    "The following code will go in the automated script."
   ],
   "cell_type": "markdown",
   "metadata": {}
  },
  {
   "source": [
    "Data seems to all be there, the null entries seem to be caused by null rows in the csv during the scrape, so we can drop those rows."
   ],
   "cell_type": "markdown",
   "metadata": {}
  },
  {
   "cell_type": "code",
   "execution_count": 12,
   "metadata": {},
   "outputs": [
    {
     "output_type": "execute_result",
     "data": {
      "text/plain": [
       "Index(['Unnamed: 0', 'Region', 'Class', 'Commodity', 'Variety', 'Organic',\n",
       "       'Environment', 'Unit', 'Number of Stores', 'Weighted Avg Price',\n",
       "       'Low Price', 'High Price', '% Marked Local'],\n",
       "      dtype='object')"
      ]
     },
     "metadata": {},
     "execution_count": 12
    }
   ],
   "source": [
    "df.columns"
   ]
  },
  {
   "cell_type": "code",
   "execution_count": 14,
   "metadata": {},
   "outputs": [
    {
     "output_type": "error",
     "ename": "KeyError",
     "evalue": "'[] not found in axis'",
     "traceback": [
      "\u001b[0;31m---------------------------------------------------------------------------\u001b[0m",
      "\u001b[0;31mKeyError\u001b[0m                                  Traceback (most recent call last)",
      "\u001b[0;32m<ipython-input-14-695c2578ab3b>\u001b[0m in \u001b[0;36m<module>\u001b[0;34m\u001b[0m\n\u001b[1;32m      1\u001b[0m \u001b[0;31m# Drop null rows\u001b[0m\u001b[0;34m\u001b[0m\u001b[0;34m\u001b[0m\u001b[0;34m\u001b[0m\u001b[0m\n\u001b[0;32m----> 2\u001b[0;31m \u001b[0mdf\u001b[0m\u001b[0;34m.\u001b[0m\u001b[0mdrop\u001b[0m\u001b[0;34m(\u001b[0m\u001b[0mdf\u001b[0m\u001b[0;34m[\u001b[0m\u001b[0mdf\u001b[0m\u001b[0;34m.\u001b[0m\u001b[0mindex\u001b[0m\u001b[0;34m.\u001b[0m\u001b[0misna\u001b[0m\u001b[0;34m(\u001b[0m\u001b[0;34m)\u001b[0m \u001b[0;34m==\u001b[0m \u001b[0;32mTrue\u001b[0m\u001b[0;34m]\u001b[0m\u001b[0;34m.\u001b[0m\u001b[0mindex\u001b[0m\u001b[0;34m,\u001b[0m \u001b[0minplace\u001b[0m\u001b[0;34m=\u001b[0m\u001b[0;32mTrue\u001b[0m\u001b[0;34m)\u001b[0m\u001b[0;34m\u001b[0m\u001b[0;34m\u001b[0m\u001b[0m\n\u001b[0m\u001b[1;32m      3\u001b[0m \u001b[0mprint\u001b[0m\u001b[0;34m(\u001b[0m\u001b[0msum\u001b[0m\u001b[0;34m(\u001b[0m\u001b[0mdf\u001b[0m\u001b[0;34m.\u001b[0m\u001b[0mindex\u001b[0m\u001b[0;34m.\u001b[0m\u001b[0misna\u001b[0m\u001b[0;34m(\u001b[0m\u001b[0;34m)\u001b[0m \u001b[0;34m==\u001b[0m \u001b[0;32mTrue\u001b[0m\u001b[0;34m)\u001b[0m\u001b[0;34m)\u001b[0m\u001b[0;34m\u001b[0m\u001b[0;34m\u001b[0m\u001b[0m\n\u001b[1;32m      4\u001b[0m \u001b[0;31m# Drop Unnamed column\u001b[0m\u001b[0;34m\u001b[0m\u001b[0;34m\u001b[0m\u001b[0;34m\u001b[0m\u001b[0m\n\u001b[1;32m      5\u001b[0m \u001b[0mdf\u001b[0m\u001b[0;34m.\u001b[0m\u001b[0mdrop\u001b[0m\u001b[0;34m(\u001b[0m\u001b[0;34m[\u001b[0m\u001b[0;34m'Unnamed: 0'\u001b[0m\u001b[0;34m]\u001b[0m\u001b[0;34m,\u001b[0m \u001b[0maxis\u001b[0m\u001b[0;34m=\u001b[0m\u001b[0;36m1\u001b[0m\u001b[0;34m,\u001b[0m \u001b[0minplace\u001b[0m\u001b[0;34m=\u001b[0m\u001b[0;32mTrue\u001b[0m\u001b[0;34m)\u001b[0m\u001b[0;34m\u001b[0m\u001b[0;34m\u001b[0m\u001b[0m\n",
      "\u001b[0;32m/opt/anaconda3/lib/python3.8/site-packages/pandas/core/frame.py\u001b[0m in \u001b[0;36mdrop\u001b[0;34m(self, labels, axis, index, columns, level, inplace, errors)\u001b[0m\n\u001b[1;32m   4165\u001b[0m                 \u001b[0mweight\u001b[0m  \u001b[0;36m1.0\u001b[0m     \u001b[0;36m0.8\u001b[0m\u001b[0;34m\u001b[0m\u001b[0;34m\u001b[0m\u001b[0m\n\u001b[1;32m   4166\u001b[0m         \"\"\"\n\u001b[0;32m-> 4167\u001b[0;31m         return super().drop(\n\u001b[0m\u001b[1;32m   4168\u001b[0m             \u001b[0mlabels\u001b[0m\u001b[0;34m=\u001b[0m\u001b[0mlabels\u001b[0m\u001b[0;34m,\u001b[0m\u001b[0;34m\u001b[0m\u001b[0;34m\u001b[0m\u001b[0m\n\u001b[1;32m   4169\u001b[0m             \u001b[0maxis\u001b[0m\u001b[0;34m=\u001b[0m\u001b[0maxis\u001b[0m\u001b[0;34m,\u001b[0m\u001b[0;34m\u001b[0m\u001b[0;34m\u001b[0m\u001b[0m\n",
      "\u001b[0;32m/opt/anaconda3/lib/python3.8/site-packages/pandas/core/generic.py\u001b[0m in \u001b[0;36mdrop\u001b[0;34m(self, labels, axis, index, columns, level, inplace, errors)\u001b[0m\n\u001b[1;32m   3887\u001b[0m         \u001b[0;32mfor\u001b[0m \u001b[0maxis\u001b[0m\u001b[0;34m,\u001b[0m \u001b[0mlabels\u001b[0m \u001b[0;32min\u001b[0m \u001b[0maxes\u001b[0m\u001b[0;34m.\u001b[0m\u001b[0mitems\u001b[0m\u001b[0;34m(\u001b[0m\u001b[0;34m)\u001b[0m\u001b[0;34m:\u001b[0m\u001b[0;34m\u001b[0m\u001b[0;34m\u001b[0m\u001b[0m\n\u001b[1;32m   3888\u001b[0m             \u001b[0;32mif\u001b[0m \u001b[0mlabels\u001b[0m \u001b[0;32mis\u001b[0m \u001b[0;32mnot\u001b[0m \u001b[0;32mNone\u001b[0m\u001b[0;34m:\u001b[0m\u001b[0;34m\u001b[0m\u001b[0;34m\u001b[0m\u001b[0m\n\u001b[0;32m-> 3889\u001b[0;31m                 \u001b[0mobj\u001b[0m \u001b[0;34m=\u001b[0m \u001b[0mobj\u001b[0m\u001b[0;34m.\u001b[0m\u001b[0m_drop_axis\u001b[0m\u001b[0;34m(\u001b[0m\u001b[0mlabels\u001b[0m\u001b[0;34m,\u001b[0m \u001b[0maxis\u001b[0m\u001b[0;34m,\u001b[0m \u001b[0mlevel\u001b[0m\u001b[0;34m=\u001b[0m\u001b[0mlevel\u001b[0m\u001b[0;34m,\u001b[0m \u001b[0merrors\u001b[0m\u001b[0;34m=\u001b[0m\u001b[0merrors\u001b[0m\u001b[0;34m)\u001b[0m\u001b[0;34m\u001b[0m\u001b[0;34m\u001b[0m\u001b[0m\n\u001b[0m\u001b[1;32m   3890\u001b[0m \u001b[0;34m\u001b[0m\u001b[0m\n\u001b[1;32m   3891\u001b[0m         \u001b[0;32mif\u001b[0m \u001b[0minplace\u001b[0m\u001b[0;34m:\u001b[0m\u001b[0;34m\u001b[0m\u001b[0;34m\u001b[0m\u001b[0m\n",
      "\u001b[0;32m/opt/anaconda3/lib/python3.8/site-packages/pandas/core/generic.py\u001b[0m in \u001b[0;36m_drop_axis\u001b[0;34m(self, labels, axis, level, errors)\u001b[0m\n\u001b[1;32m   3940\u001b[0m                 \u001b[0mlabels_missing\u001b[0m \u001b[0;34m=\u001b[0m \u001b[0;34m(\u001b[0m\u001b[0maxis\u001b[0m\u001b[0;34m.\u001b[0m\u001b[0mget_indexer_for\u001b[0m\u001b[0;34m(\u001b[0m\u001b[0mlabels\u001b[0m\u001b[0;34m)\u001b[0m \u001b[0;34m==\u001b[0m \u001b[0;34m-\u001b[0m\u001b[0;36m1\u001b[0m\u001b[0;34m)\u001b[0m\u001b[0;34m.\u001b[0m\u001b[0many\u001b[0m\u001b[0;34m(\u001b[0m\u001b[0;34m)\u001b[0m\u001b[0;34m\u001b[0m\u001b[0;34m\u001b[0m\u001b[0m\n\u001b[1;32m   3941\u001b[0m                 \u001b[0;32mif\u001b[0m \u001b[0merrors\u001b[0m \u001b[0;34m==\u001b[0m \u001b[0;34m\"raise\"\u001b[0m \u001b[0;32mand\u001b[0m \u001b[0mlabels_missing\u001b[0m\u001b[0;34m:\u001b[0m\u001b[0;34m\u001b[0m\u001b[0;34m\u001b[0m\u001b[0m\n\u001b[0;32m-> 3942\u001b[0;31m                     \u001b[0;32mraise\u001b[0m \u001b[0mKeyError\u001b[0m\u001b[0;34m(\u001b[0m\u001b[0;34mf\"{labels} not found in axis\"\u001b[0m\u001b[0;34m)\u001b[0m\u001b[0;34m\u001b[0m\u001b[0;34m\u001b[0m\u001b[0m\n\u001b[0m\u001b[1;32m   3943\u001b[0m \u001b[0;34m\u001b[0m\u001b[0m\n\u001b[1;32m   3944\u001b[0m             \u001b[0mslicer\u001b[0m \u001b[0;34m=\u001b[0m \u001b[0;34m[\u001b[0m\u001b[0mslice\u001b[0m\u001b[0;34m(\u001b[0m\u001b[0;32mNone\u001b[0m\u001b[0;34m)\u001b[0m\u001b[0;34m]\u001b[0m \u001b[0;34m*\u001b[0m \u001b[0mself\u001b[0m\u001b[0;34m.\u001b[0m\u001b[0mndim\u001b[0m\u001b[0;34m\u001b[0m\u001b[0;34m\u001b[0m\u001b[0m\n",
      "\u001b[0;31mKeyError\u001b[0m: '[] not found in axis'"
     ]
    }
   ],
   "source": [
    "# Drop null rows\n",
    "df.drop(df[df.index.isna() == True].index, inplace=True)\n",
    "print(sum(df.index.isna() == True))\n",
    "# Drop Unnamed column\n",
    "df.drop(['Unnamed: 0'], axis=1, inplace=True)"
   ]
  },
  {
   "source": [
    "### Step 2: Calculate averages ###\n",
    "The following columns will be generated:\n",
    "- 10 yr average: average of 10 price points, 1 for each num of years back (price 1 yr ago, price 2yr ago, etc.)\n",
    "- Price 3 mo ago\n",
    "- Price 1 mo ago\n",
    "- 10 yr average pct change\n",
    "- Pct change: price 3 mo ago and price now\n",
    "- Pct change: price 1 mo ago and price now"
   ],
   "cell_type": "markdown",
   "metadata": {}
  },
  {
   "cell_type": "code",
   "execution_count": null,
   "metadata": {},
   "outputs": [],
   "source": [
    "# Create the appropriate timedeltas\n",
    "\"\"\"\n",
    "Following function taken from https://stackoverflow.com/questions/765797/python-timedelta-in-years\n",
    "Given the number of years ago from from_date, get the date that was exactly that many years ago\n",
    "\"\"\"\n",
    "def yearsago(years, from_date=None):\n",
    "    if from_date is None:\n",
    "        from_date = datetime.now()\n",
    "    return from_date - relativedelta(years=years)\n",
    "\n",
    "def monthsago(months, from_date=None):\n",
    "    if from_date is None:\n",
    "        from_date = datetime.now()\n",
    "    return from_date + relativedelta(months=(-months))"
   ]
  },
  {
   "source": [
    "### Today ###\n",
    "Get relevant info for the prices today such as the date and average price (which will be used to calculate pct change)"
   ],
   "cell_type": "markdown",
   "metadata": {}
  },
  {
   "cell_type": "code",
   "execution_count": 301,
   "metadata": {},
   "outputs": [
    {
     "output_type": "stream",
     "name": "stdout",
     "text": [
      "No new data for APPLES NORTHEAST+U.S., using most recent price from 2021-01-29 00:00:00\nPrice today: $2.55\n"
     ]
    }
   ],
   "source": [
    "# TODO: This will be datetime.now() in production\n",
    "current_day = datetime.today()\n",
    "orig_today = datetime(current_day.year, current_day.month, current_day.day)\n",
    "today = datetime(current_day.year, current_day.month, current_day.day)\n",
    "while not sum(df.index == today) > 0:\n",
    "        today -= timedelta(days=1)\n",
    "if today != orig_today: # replace with datetime.now()\n",
    "    print(\"No new data for {} {}, using most recent price from {}\".format(veg, region, str(today)))\n",
    "today_df = df.loc[today]\n",
    "price_today = np.mean(today_df['Weighted Avg Price'])\n",
    "print(\"Price today: $\" + str(round(price_today,2)))"
   ]
  },
  {
   "source": [
    "#### 10 yr average ###"
   ],
   "cell_type": "markdown",
   "metadata": {}
  },
  {
   "cell_type": "code",
   "execution_count": 302,
   "metadata": {},
   "outputs": [
    {
     "output_type": "execute_result",
     "data": {
      "text/plain": [
       "2021-01-29    34\n",
       "2020-01-24    34\n",
       "2018-01-26    32\n",
       "2019-01-25    30\n",
       "2017-01-27    29\n",
       "2016-01-29    29\n",
       "2015-01-23    27\n",
       "2014-01-24    26\n",
       "2013-01-25    24\n",
       "2012-01-27    23\n",
       "2011-01-28    21\n",
       "Name: Date, dtype: int64"
      ]
     },
     "metadata": {},
     "execution_count": 302
    }
   ],
   "source": [
    "# NOTE: Using the nearest Friday for testing, but in production the from_date should be null, the function will automatically use the current day (assuming we run the script every Friday, when USDA data is updated)\n",
    "df_10yr = pd.DataFrame()\n",
    "asterisk = False\n",
    "for i in range(10,-1,-1):\n",
    "    year_exists = True\n",
    "    date_back = yearsago(i, from_date=today)\n",
    "    orig_date_back = date_back\n",
    "    # Scoot back to the most recent date that contains data\n",
    "    while not sum(df.index == date_back) > 0:\n",
    "        date_back -= timedelta(days=1)\n",
    "        if orig_date_back - date_back >= timedelta(days=365):\n",
    "            print(\"No data for {} years back\".format(i))\n",
    "            asterisk = True\n",
    "            year_exists = False\n",
    "            break\n",
    "    if year_exists:\n",
    "        df_piece = df[df.index == date_back]\n",
    "        df_10yr = pd.concat([df_10yr, df_piece], axis=0)\n",
    "df_10yr.index.value_counts()\n",
    "        "
   ]
  },
  {
   "cell_type": "code",
   "execution_count": 303,
   "metadata": {},
   "outputs": [
    {
     "output_type": "execute_result",
     "data": {
      "text/plain": [
       "            Environment  Number of Stores  Weighted Avg Price  Low Price  \\\n",
       "Date                                                                       \n",
       "2011-01-28          NaN        243.428571            2.230476   2.057143   \n",
       "2012-01-27          NaN        347.739130            2.674783   2.416087   \n",
       "2013-01-25          NaN        364.750000            2.680417   2.397917   \n",
       "2014-01-24          NaN        440.307692            2.589231   2.242692   \n",
       "2015-01-23          NaN        405.000000            2.380741   2.072222   \n",
       "2016-01-29          NaN        217.172414            2.885172   2.527241   \n",
       "2017-01-27          NaN        294.551724            2.386552   2.140690   \n",
       "2018-01-26          NaN        257.968750            2.980313   2.709063   \n",
       "2019-01-25          NaN        274.666667            2.834000   2.412667   \n",
       "2020-01-24          NaN        211.970588            2.515882   2.225588   \n",
       "2021-01-29          NaN        129.676471            2.547941   2.387941   \n",
       "\n",
       "            High Price  % Marked Local  \n",
       "Date                                    \n",
       "2011-01-28    2.348571             NaN  \n",
       "2012-01-27    2.924783             NaN  \n",
       "2013-01-25    2.972917             NaN  \n",
       "2014-01-24    3.000769            2.75  \n",
       "2015-01-23    2.951111             NaN  \n",
       "2016-01-29    3.161034           37.00  \n",
       "2017-01-27    2.611724             NaN  \n",
       "2018-01-26    3.223750           36.50  \n",
       "2019-01-25    3.048667           34.80  \n",
       "2020-01-24    2.890000             NaN  \n",
       "2021-01-29    2.717647           60.00  "
      ],
      "text/html": "<div>\n<style scoped>\n    .dataframe tbody tr th:only-of-type {\n        vertical-align: middle;\n    }\n\n    .dataframe tbody tr th {\n        vertical-align: top;\n    }\n\n    .dataframe thead th {\n        text-align: right;\n    }\n</style>\n<table border=\"1\" class=\"dataframe\">\n  <thead>\n    <tr style=\"text-align: right;\">\n      <th></th>\n      <th>Environment</th>\n      <th>Number of Stores</th>\n      <th>Weighted Avg Price</th>\n      <th>Low Price</th>\n      <th>High Price</th>\n      <th>% Marked Local</th>\n    </tr>\n    <tr>\n      <th>Date</th>\n      <th></th>\n      <th></th>\n      <th></th>\n      <th></th>\n      <th></th>\n      <th></th>\n    </tr>\n  </thead>\n  <tbody>\n    <tr>\n      <th>2011-01-28</th>\n      <td>NaN</td>\n      <td>243.428571</td>\n      <td>2.230476</td>\n      <td>2.057143</td>\n      <td>2.348571</td>\n      <td>NaN</td>\n    </tr>\n    <tr>\n      <th>2012-01-27</th>\n      <td>NaN</td>\n      <td>347.739130</td>\n      <td>2.674783</td>\n      <td>2.416087</td>\n      <td>2.924783</td>\n      <td>NaN</td>\n    </tr>\n    <tr>\n      <th>2013-01-25</th>\n      <td>NaN</td>\n      <td>364.750000</td>\n      <td>2.680417</td>\n      <td>2.397917</td>\n      <td>2.972917</td>\n      <td>NaN</td>\n    </tr>\n    <tr>\n      <th>2014-01-24</th>\n      <td>NaN</td>\n      <td>440.307692</td>\n      <td>2.589231</td>\n      <td>2.242692</td>\n      <td>3.000769</td>\n      <td>2.75</td>\n    </tr>\n    <tr>\n      <th>2015-01-23</th>\n      <td>NaN</td>\n      <td>405.000000</td>\n      <td>2.380741</td>\n      <td>2.072222</td>\n      <td>2.951111</td>\n      <td>NaN</td>\n    </tr>\n    <tr>\n      <th>2016-01-29</th>\n      <td>NaN</td>\n      <td>217.172414</td>\n      <td>2.885172</td>\n      <td>2.527241</td>\n      <td>3.161034</td>\n      <td>37.00</td>\n    </tr>\n    <tr>\n      <th>2017-01-27</th>\n      <td>NaN</td>\n      <td>294.551724</td>\n      <td>2.386552</td>\n      <td>2.140690</td>\n      <td>2.611724</td>\n      <td>NaN</td>\n    </tr>\n    <tr>\n      <th>2018-01-26</th>\n      <td>NaN</td>\n      <td>257.968750</td>\n      <td>2.980313</td>\n      <td>2.709063</td>\n      <td>3.223750</td>\n      <td>36.50</td>\n    </tr>\n    <tr>\n      <th>2019-01-25</th>\n      <td>NaN</td>\n      <td>274.666667</td>\n      <td>2.834000</td>\n      <td>2.412667</td>\n      <td>3.048667</td>\n      <td>34.80</td>\n    </tr>\n    <tr>\n      <th>2020-01-24</th>\n      <td>NaN</td>\n      <td>211.970588</td>\n      <td>2.515882</td>\n      <td>2.225588</td>\n      <td>2.890000</td>\n      <td>NaN</td>\n    </tr>\n    <tr>\n      <th>2021-01-29</th>\n      <td>NaN</td>\n      <td>129.676471</td>\n      <td>2.547941</td>\n      <td>2.387941</td>\n      <td>2.717647</td>\n      <td>60.00</td>\n    </tr>\n  </tbody>\n</table>\n</div>"
     },
     "metadata": {},
     "execution_count": 303
    }
   ],
   "source": [
    "# We lose the commodity info when we do this. Make sure to hold on to the fact that this is apples, northeast\n",
    "df_10yr_avg = df_10yr.groupby(df_10yr.index).mean()\n",
    "df_10yr_avg"
   ]
  },
  {
   "cell_type": "code",
   "execution_count": 304,
   "metadata": {},
   "outputs": [
    {
     "output_type": "execute_result",
     "data": {
      "text/plain": [
       "Timestamp('2011-01-28 00:00:00')"
      ]
     },
     "metadata": {},
     "execution_count": 304
    }
   ],
   "source": [
    "df_10yr_avg.index[0]"
   ]
  },
  {
   "cell_type": "code",
   "execution_count": 305,
   "metadata": {},
   "outputs": [
    {
     "output_type": "stream",
     "name": "stdout",
     "text": [
      "NORTHEAST+U.S. APPLES JONATHAN 10 yr average: $2.61\n"
     ]
    }
   ],
   "source": [
    "# Calculate new columns (averages and pct changes)\n",
    "if df_10yr_avg.index[0] > yearsago(10, from_date=today):\n",
    "    print(\"Data does not contain a price from 10 yrs ago for {} {} {}, using the earliest price point within 10 years that can find for pct change calculation\".format(veg, region, variety))\n",
    "price_10yr_ago = df_10yr_avg.iloc[0]['Weighted Avg Price']\n",
    "final_10yr_avg = np.mean(df_10yr_avg['Weighted Avg Price'])\n",
    "print(region, veg, variety, \"10 yr average: $\" + str(round(final_10yr_avg, 2)))"
   ]
  },
  {
   "source": [
    "#### 3 mo and 1 mo average ####"
   ],
   "cell_type": "markdown",
   "metadata": {}
  },
  {
   "cell_type": "code",
   "execution_count": 306,
   "metadata": {},
   "outputs": [
    {
     "output_type": "stream",
     "name": "stdout",
     "text": [
      "                    Region   Class Commodity                Variety Organic  \\\n",
      "Date                                                                          \n",
      "2020-10-23  NORTHEAST U.S.  FRUITS    APPLES                   FUJI     NaN   \n",
      "2020-10-23  NORTHEAST U.S.  FRUITS    APPLES                   FUJI     NaN   \n",
      "2020-10-23  NORTHEAST U.S.  FRUITS    APPLES                   FUJI       Y   \n",
      "2020-10-23  NORTHEAST U.S.  FRUITS    APPLES                   FUJI       Y   \n",
      "2020-10-23  NORTHEAST U.S.  FRUITS    APPLES                   GALA     NaN   \n",
      "2020-10-23  NORTHEAST U.S.  FRUITS    APPLES                   GALA     NaN   \n",
      "2020-10-23  NORTHEAST U.S.  FRUITS    APPLES                   GALA     NaN   \n",
      "2020-10-23  NORTHEAST U.S.  FRUITS    APPLES                   GALA     NaN   \n",
      "2020-10-23  NORTHEAST U.S.  FRUITS    APPLES                   GALA       Y   \n",
      "2020-10-23  NORTHEAST U.S.  FRUITS    APPLES                   GALA       Y   \n",
      "2020-10-23  NORTHEAST U.S.  FRUITS    APPLES                   GALA       Y   \n",
      "2020-10-23  NORTHEAST U.S.  FRUITS    APPLES            GINGER GOLD     NaN   \n",
      "2020-10-23  NORTHEAST U.S.  FRUITS    APPLES       GOLDEN DELICIOUS     NaN   \n",
      "2020-10-23  NORTHEAST U.S.  FRUITS    APPLES       GOLDEN DELICIOUS     NaN   \n",
      "2020-10-23  NORTHEAST U.S.  FRUITS    APPLES       GOLDEN DELICIOUS     NaN   \n",
      "2020-10-23  NORTHEAST U.S.  FRUITS    APPLES           GRANNY SMITH     NaN   \n",
      "2020-10-23  NORTHEAST U.S.  FRUITS    APPLES           GRANNY SMITH     NaN   \n",
      "2020-10-23  NORTHEAST U.S.  FRUITS    APPLES           GRANNY SMITH       Y   \n",
      "2020-10-23  NORTHEAST U.S.  FRUITS    APPLES           GRANNY SMITH       Y   \n",
      "2020-10-23  NORTHEAST U.S.  FRUITS    APPLES             HONEYCRISP     NaN   \n",
      "2020-10-23  NORTHEAST U.S.  FRUITS    APPLES             HONEYCRISP     NaN   \n",
      "2020-10-23  NORTHEAST U.S.  FRUITS    APPLES             HONEYCRISP       Y   \n",
      "2020-10-23  NORTHEAST U.S.  FRUITS    APPLES               JONAGOLD     NaN   \n",
      "2020-10-23  NORTHEAST U.S.  FRUITS    APPLES               MCINTOSH     NaN   \n",
      "2020-10-23  NORTHEAST U.S.  FRUITS    APPLES               MCINTOSH     NaN   \n",
      "2020-10-23  NORTHEAST U.S.  FRUITS    APPLES               MCINTOSH     NaN   \n",
      "2020-10-23  NORTHEAST U.S.  FRUITS    APPLES               MCINTOSH     NaN   \n",
      "2020-10-23  NORTHEAST U.S.  FRUITS    APPLES  PINK LADY/CRIPPS PINK     NaN   \n",
      "2020-10-23  NORTHEAST U.S.  FRUITS    APPLES          RED DELICIOUS     NaN   \n",
      "2020-10-23  NORTHEAST U.S.  FRUITS    APPLES          RED DELICIOUS     NaN   \n",
      "2020-10-23  NORTHEAST U.S.  FRUITS    APPLES          RED DELICIOUS     NaN   \n",
      "2020-10-23  NORTHEAST U.S.  FRUITS    APPLES          RED DELICIOUS       Y   \n",
      "2020-10-23  NORTHEAST U.S.  FRUITS    APPLES                   ROME     NaN   \n",
      "2020-10-23  NORTHEAST U.S.  FRUITS    APPLES                   ROME     NaN   \n",
      "\n",
      "            Environment       Unit  Number of Stores  Weighted Avg Price  \\\n",
      "Date                                                                       \n",
      "2020-10-23          NaN   3 lb bag               9.0                2.99   \n",
      "2020-10-23          NaN  per pound             572.0                1.54   \n",
      "2020-10-23          NaN   2 lb bag              30.0                3.99   \n",
      "2020-10-23          NaN  per pound              14.0                1.88   \n",
      "2020-10-23          NaN   2 lb bag              86.0                2.50   \n",
      "2020-10-23          NaN   3 lb bag             616.0                2.06   \n",
      "2020-10-23          NaN   5 lb bag              88.0                3.44   \n",
      "2020-10-23          NaN  per pound            1049.0                1.26   \n",
      "2020-10-23          NaN   2 lb bag              30.0                3.99   \n",
      "2020-10-23          NaN   3 lb bag               5.0                4.29   \n",
      "2020-10-23          NaN  per pound              56.0                2.50   \n",
      "2020-10-23          NaN  per pound             262.0                0.79   \n",
      "2020-10-23          NaN   3 lb bag              66.0                2.99   \n",
      "2020-10-23          NaN   5 lb bag              24.0                5.99   \n",
      "2020-10-23          NaN  per pound             364.0                1.34   \n",
      "2020-10-23          NaN   3 lb bag              96.0                3.60   \n",
      "2020-10-23          NaN  per pound             598.0                1.71   \n",
      "2020-10-23          NaN   2 lb bag              30.0                3.99   \n",
      "2020-10-23          NaN  per pound              11.0                1.98   \n",
      "2020-10-23          NaN   3 lb bag              18.0                4.97   \n",
      "2020-10-23          NaN  per pound            1270.0                1.66   \n",
      "2020-10-23          NaN  per pound               5.0                2.99   \n",
      "2020-10-23          NaN  per pound              38.0                0.95   \n",
      "2020-10-23          NaN   2 lb bag              86.0                2.50   \n",
      "2020-10-23          NaN   3 lb bag             256.0                2.71   \n",
      "2020-10-23          NaN   5 lb bag              24.0                5.99   \n",
      "2020-10-23          NaN  per pound             375.0                0.85   \n",
      "2020-10-23          NaN  per pound             190.0                1.99   \n",
      "2020-10-23          NaN   2 lb bag             260.0                1.00   \n",
      "2020-10-23          NaN   3 lb bag             148.0                3.24   \n",
      "2020-10-23          NaN  per pound             673.0                1.16   \n",
      "2020-10-23          NaN  per pound               8.0                1.79   \n",
      "2020-10-23          NaN   3 lb bag               9.0                2.99   \n",
      "2020-10-23          NaN  per pound              24.0                0.92   \n",
      "\n",
      "            Low Price  High Price  % Marked Local  \n",
      "Date                                               \n",
      "2020-10-23       2.99        2.99             NaN  \n",
      "2020-10-23       0.79        1.99             NaN  \n",
      "2020-10-23       3.99        3.99             NaN  \n",
      "2020-10-23       1.79        1.99             NaN  \n",
      "2020-10-23       2.50        2.50             NaN  \n",
      "2020-10-23       0.99        3.50             NaN  \n",
      "2020-10-23       2.49        5.99             NaN  \n",
      "2020-10-23       0.78        1.99             5.0  \n",
      "2020-10-23       3.99        3.99             NaN  \n",
      "2020-10-23       4.29        4.29             NaN  \n",
      "2020-10-23       1.79        2.99             NaN  \n",
      "2020-10-23       0.78        0.99             3.0  \n",
      "2020-10-23       2.99        2.99             NaN  \n",
      "2020-10-23       5.99        5.99             NaN  \n",
      "2020-10-23       0.79        1.69             8.0  \n",
      "2020-10-23       3.49        3.99             NaN  \n",
      "2020-10-23       0.79        1.99             NaN  \n",
      "2020-10-23       3.99        3.99             NaN  \n",
      "2020-10-23       1.79        2.49             NaN  \n",
      "2020-10-23       4.97        4.97           100.0  \n",
      "2020-10-23       0.93        3.99             2.0  \n",
      "2020-10-23       2.99        2.99             NaN  \n",
      "2020-10-23       0.79        0.99            79.0  \n",
      "2020-10-23       2.50        2.50             NaN  \n",
      "2020-10-23       2.50        2.99            57.0  \n",
      "2020-10-23       5.99        5.99             NaN  \n",
      "2020-10-23       0.78        1.49            13.0  \n",
      "2020-10-23       1.99        1.99             NaN  \n",
      "2020-10-23       1.00        1.00             NaN  \n",
      "2020-10-23       2.99        3.49             NaN  \n",
      "2020-10-23       0.78        1.69             1.0  \n",
      "2020-10-23       1.79        1.79             NaN  \n",
      "2020-10-23       2.99        2.99             NaN  \n",
      "2020-10-23       0.79        0.99             NaN  \n",
      "                    Region   Class Commodity                Variety Organic  \\\n",
      "Date                                                                          \n",
      "2020-12-18  NORTHEAST U.S.  FRUITS    APPLES               BRAEBURN     NaN   \n",
      "2020-12-18  NORTHEAST U.S.  FRUITS    APPLES                   FUJI     NaN   \n",
      "2020-12-18  NORTHEAST U.S.  FRUITS    APPLES                   FUJI     NaN   \n",
      "2020-12-18  NORTHEAST U.S.  FRUITS    APPLES                   FUJI       Y   \n",
      "2020-12-18  NORTHEAST U.S.  FRUITS    APPLES                   FUJI       Y   \n",
      "2020-12-18  NORTHEAST U.S.  FRUITS    APPLES                   FUJI       Y   \n",
      "2020-12-18  NORTHEAST U.S.  FRUITS    APPLES                   GALA     NaN   \n",
      "2020-12-18  NORTHEAST U.S.  FRUITS    APPLES                   GALA     NaN   \n",
      "2020-12-18  NORTHEAST U.S.  FRUITS    APPLES                   GALA     NaN   \n",
      "2020-12-18  NORTHEAST U.S.  FRUITS    APPLES                   GALA     NaN   \n",
      "2020-12-18  NORTHEAST U.S.  FRUITS    APPLES                   GALA       Y   \n",
      "2020-12-18  NORTHEAST U.S.  FRUITS    APPLES                   GALA       Y   \n",
      "2020-12-18  NORTHEAST U.S.  FRUITS    APPLES                   GALA       Y   \n",
      "2020-12-18  NORTHEAST U.S.  FRUITS    APPLES            GINGER GOLD     NaN   \n",
      "2020-12-18  NORTHEAST U.S.  FRUITS    APPLES       GOLDEN DELICIOUS     NaN   \n",
      "2020-12-18  NORTHEAST U.S.  FRUITS    APPLES       GOLDEN DELICIOUS       Y   \n",
      "2020-12-18  NORTHEAST U.S.  FRUITS    APPLES           GRANNY SMITH     NaN   \n",
      "2020-12-18  NORTHEAST U.S.  FRUITS    APPLES           GRANNY SMITH     NaN   \n",
      "2020-12-18  NORTHEAST U.S.  FRUITS    APPLES           GRANNY SMITH       Y   \n",
      "2020-12-18  NORTHEAST U.S.  FRUITS    APPLES           GRANNY SMITH       Y   \n",
      "2020-12-18  NORTHEAST U.S.  FRUITS    APPLES           GRANNY SMITH       Y   \n",
      "2020-12-18  NORTHEAST U.S.  FRUITS    APPLES             HONEYCRISP     NaN   \n",
      "2020-12-18  NORTHEAST U.S.  FRUITS    APPLES             HONEYCRISP       Y   \n",
      "2020-12-18  NORTHEAST U.S.  FRUITS    APPLES             HONEYCRISP       Y   \n",
      "2020-12-18  NORTHEAST U.S.  FRUITS    APPLES               JONAGOLD     NaN   \n",
      "2020-12-18  NORTHEAST U.S.  FRUITS    APPLES               JONAGOLD     NaN   \n",
      "2020-12-18  NORTHEAST U.S.  FRUITS    APPLES               MCINTOSH     NaN   \n",
      "2020-12-18  NORTHEAST U.S.  FRUITS    APPLES               MCINTOSH     NaN   \n",
      "2020-12-18  NORTHEAST U.S.  FRUITS    APPLES               MCINTOSH     NaN   \n",
      "2020-12-18  NORTHEAST U.S.  FRUITS    APPLES  PINK LADY/CRIPPS PINK     NaN   \n",
      "2020-12-18  NORTHEAST U.S.  FRUITS    APPLES          RED DELICIOUS     NaN   \n",
      "2020-12-18  NORTHEAST U.S.  FRUITS    APPLES          RED DELICIOUS     NaN   \n",
      "2020-12-18  NORTHEAST U.S.  FRUITS    APPLES          RED DELICIOUS     NaN   \n",
      "2020-12-18  NORTHEAST U.S.  FRUITS    APPLES          RED DELICIOUS       Y   \n",
      "2020-12-18  NORTHEAST U.S.  FRUITS    APPLES                   ROME     NaN   \n",
      "\n",
      "            Environment       Unit  Number of Stores  Weighted Avg Price  \\\n",
      "Date                                                                       \n",
      "2020-12-18          NaN  per pound              80.0                0.99   \n",
      "2020-12-18          NaN   5 lb bag              81.0                5.00   \n",
      "2020-12-18          NaN  per pound             574.0                1.61   \n",
      "2020-12-18          NaN   2 lb bag             391.0                4.47   \n",
      "2020-12-18          NaN   3 lb bag             415.0                4.99   \n",
      "2020-12-18          NaN  per pound               5.0                1.49   \n",
      "2020-12-18          NaN   2 lb bag             134.0                2.50   \n",
      "2020-12-18          NaN   3 lb bag             394.0                4.14   \n",
      "2020-12-18          NaN   5 lb bag              81.0                5.00   \n",
      "2020-12-18          NaN  per pound             552.0                1.59   \n",
      "2020-12-18          NaN   2 lb bag             391.0                4.47   \n",
      "2020-12-18          NaN   3 lb bag             426.0                4.98   \n",
      "2020-12-18          NaN  per pound             146.0                1.95   \n",
      "2020-12-18          NaN  per pound              72.0                1.69   \n",
      "2020-12-18          NaN  per pound             197.0                1.13   \n",
      "2020-12-18          NaN   3 lb bag             415.0                4.99   \n",
      "2020-12-18          NaN   3 lb bag             301.0                4.86   \n",
      "2020-12-18          NaN  per pound            1194.0                1.47   \n",
      "2020-12-18          NaN   2 lb bag             391.0                4.47   \n",
      "2020-12-18          NaN   3 lb bag             415.0                4.99   \n",
      "2020-12-18          NaN  per pound             104.0                1.35   \n",
      "2020-12-18          NaN  per pound             478.0                2.09   \n",
      "2020-12-18          NaN   2 lb bag              74.0                3.99   \n",
      "2020-12-18          NaN  per pound              13.0                2.53   \n",
      "2020-12-18          NaN   3 lb bag              57.0                2.99   \n",
      "2020-12-18          NaN  per pound               9.0                1.29   \n",
      "2020-12-18          NaN   2 lb bag             134.0                2.50   \n",
      "2020-12-18          NaN   3 lb bag              70.0                2.50   \n",
      "2020-12-18          NaN  per pound             152.0                1.32   \n",
      "2020-12-18          NaN  per pound               9.0                1.29   \n",
      "2020-12-18          NaN   2 lb bag             134.0                2.50   \n",
      "2020-12-18          NaN   3 lb bag             293.0                4.86   \n",
      "2020-12-18          NaN  per pound             256.0                1.21   \n",
      "2020-12-18          NaN   3 lb bag             415.0                4.99   \n",
      "2020-12-18          NaN  per pound             321.0                1.08   \n",
      "\n",
      "            Low Price  High Price  % Marked Local  \n",
      "Date                                               \n",
      "2020-12-18       0.99        0.99             NaN  \n",
      "2020-12-18       5.00        5.00             NaN  \n",
      "2020-12-18       0.99        1.69             NaN  \n",
      "2020-12-18       3.49        4.99             NaN  \n",
      "2020-12-18       4.99        4.99             NaN  \n",
      "2020-12-18       1.49        1.49             NaN  \n",
      "2020-12-18       2.50        2.50             NaN  \n",
      "2020-12-18       1.99        4.99             NaN  \n",
      "2020-12-18       5.00        5.00             NaN  \n",
      "2020-12-18       0.99        1.99             NaN  \n",
      "2020-12-18       3.49        4.99             NaN  \n",
      "2020-12-18       4.49        4.99             NaN  \n",
      "2020-12-18       1.69        2.49             NaN  \n",
      "2020-12-18       1.69        1.69             NaN  \n",
      "2020-12-18       0.59        1.69             NaN  \n",
      "2020-12-18       4.99        4.99             NaN  \n",
      "2020-12-18       3.99        4.99             NaN  \n",
      "2020-12-18       0.59        1.99             NaN  \n",
      "2020-12-18       3.49        4.99             NaN  \n",
      "2020-12-18       4.99        4.99             NaN  \n",
      "2020-12-18       0.99        2.49             NaN  \n",
      "2020-12-18       0.99        2.49             NaN  \n",
      "2020-12-18       3.99        3.99             NaN  \n",
      "2020-12-18       1.99        2.99             NaN  \n",
      "2020-12-18       2.99        2.99             NaN  \n",
      "2020-12-18       1.29        1.29             NaN  \n",
      "2020-12-18       2.50        2.50             NaN  \n",
      "2020-12-18       2.50        2.50             NaN  \n",
      "2020-12-18       0.99        1.69             NaN  \n",
      "2020-12-18       1.29        1.29             NaN  \n",
      "2020-12-18       2.50        2.50             NaN  \n",
      "2020-12-18       3.99        4.99             NaN  \n",
      "2020-12-18       0.59        1.69             NaN  \n",
      "2020-12-18       4.99        4.99             NaN  \n",
      "2020-12-18       0.59        1.59             NaN  \n"
     ]
    }
   ],
   "source": [
    "# Get data from closest to exactly 3 months ago as possible\n",
    "date_back_3mo = monthsago(3, from_date=today)\n",
    "while not sum(df.index == date_back_3mo) > 0:\n",
    "    date_back_3mo -= timedelta(days=1)\n",
    "df_3mo = df[df.index == date_back_3mo]\n",
    "print(df_3mo)\n",
    "# Get data from closest to exactly 1 month ago as possible\n",
    "date_back_1mo = monthsago(1, from_date=today)\n",
    "while not sum(df.index == date_back_1mo) > 0:\n",
    "    date_back_1mo -= timedelta(days=1)\n",
    "df_1mo = df[df.index == date_back_1mo]\n",
    "print(df_1mo)"
   ]
  },
  {
   "cell_type": "code",
   "execution_count": 307,
   "metadata": {},
   "outputs": [
    {
     "output_type": "stream",
     "name": "stdout",
     "text": [
      "NORTHEAST+U.S. APPLES 3 months ago: $2.6\nNORTHEAST+U.S. APPLES 1 months ago: $2.95\n"
     ]
    }
   ],
   "source": [
    "final_3mo_avg = np.mean(df_3mo['Weighted Avg Price'])\n",
    "final_1mo_avg = np.mean(df_1mo['Weighted Avg Price'])\n",
    "print(region, veg, \"3 months ago: $\" + str(round(final_3mo_avg, 2)))\n",
    "print(region, veg, \"1 months ago: $\" + str(round(final_1mo_avg, 2)))"
   ]
  },
  {
   "cell_type": "code",
   "execution_count": 308,
   "metadata": {},
   "outputs": [],
   "source": [
    "def pct_change(oldprice, newprice):\n",
    "    return ((newprice - oldprice)/oldprice)*100"
   ]
  },
  {
   "cell_type": "code",
   "execution_count": 309,
   "metadata": {},
   "outputs": [
    {
     "output_type": "stream",
     "name": "stdout",
     "text": [
      "{'Region': 'NORTHEAST+U.S.', 'Commodity': 'APPLES', '10yr_avg': 2.6095915584684377, '3mo_ago': 2.604117647058823, '1mo_ago': 2.950571428571428, 'pct_change (10yr)': 14.233058723062204, 'pct_change (3mo)': -2.157217077027332, 'pct_change (1mo)': -13.645839860104017, 'price_today': 2.5479411764705877, '10_yr asterisk': False}\n"
     ]
    }
   ],
   "source": [
    "# Calculate percent changes\n",
    "# TODO: Ask about 10 yr. Right now going to go exactly 10 yrs back just like the other ones\n",
    "pct_change_10yr = pct_change(price_10yr_ago, price_today)\n",
    "pct_change_3mo = pct_change(final_3mo_avg, price_today)\n",
    "pct_change_1mo = pct_change(final_1mo_avg, price_today)\n",
    "new_cols = ['Region', 'Commodity', '10yr_avg', '3mo_ago', '1mo_ago', 'pct_change (10yr)', 'pct_change (3mo)', 'pct_change (1mo)', 'price_today', '10_yr asterisk']\n",
    "vals = [region, veg, final_10yr_avg, final_3mo_avg, final_1mo_avg, pct_change_10yr, pct_change_3mo, pct_change_1mo, price_today, asterisk]\n",
    "results_dict = dict(zip(new_cols, vals))\n",
    "print(results_dict)"
   ]
  },
  {
   "cell_type": "code",
   "execution_count": 310,
   "metadata": {},
   "outputs": [],
   "source": [
    "results_df = results_df.append(results_dict, ignore_index=True)"
   ]
  },
  {
   "cell_type": "code",
   "execution_count": 311,
   "metadata": {},
   "outputs": [],
   "source": [
    "# Delete old data no longer needed (+10yrs back)"
   ]
  },
  {
   "cell_type": "code",
   "execution_count": 312,
   "metadata": {},
   "outputs": [],
   "source": [
    "# Construct a new df where columns are the different measurements and each row is a diff commodity (outside of big for loop)"
   ]
  },
  {
   "cell_type": "code",
   "execution_count": 313,
   "metadata": {},
   "outputs": [
    {
     "output_type": "execute_result",
     "data": {
      "text/plain": [
       "   10_yr asterisk  10yr_avg   1mo_ago   3mo_ago Commodity          Region  \\\n",
       "0             0.0  2.609592  2.950571  2.604118    APPLES  NORTHEAST+U.S.   \n",
       "\n",
       "   pct_change (10yr)  pct_change (1mo)  pct_change (3mo)  price_today  \n",
       "0          14.233059         -13.64584         -2.157217     2.547941  "
      ],
      "text/html": "<div>\n<style scoped>\n    .dataframe tbody tr th:only-of-type {\n        vertical-align: middle;\n    }\n\n    .dataframe tbody tr th {\n        vertical-align: top;\n    }\n\n    .dataframe thead th {\n        text-align: right;\n    }\n</style>\n<table border=\"1\" class=\"dataframe\">\n  <thead>\n    <tr style=\"text-align: right;\">\n      <th></th>\n      <th>10_yr asterisk</th>\n      <th>10yr_avg</th>\n      <th>1mo_ago</th>\n      <th>3mo_ago</th>\n      <th>Commodity</th>\n      <th>Region</th>\n      <th>pct_change (10yr)</th>\n      <th>pct_change (1mo)</th>\n      <th>pct_change (3mo)</th>\n      <th>price_today</th>\n    </tr>\n  </thead>\n  <tbody>\n    <tr>\n      <th>0</th>\n      <td>0.0</td>\n      <td>2.609592</td>\n      <td>2.950571</td>\n      <td>2.604118</td>\n      <td>APPLES</td>\n      <td>NORTHEAST+U.S.</td>\n      <td>14.233059</td>\n      <td>-13.64584</td>\n      <td>-2.157217</td>\n      <td>2.547941</td>\n    </tr>\n  </tbody>\n</table>\n</div>"
     },
     "metadata": {},
     "execution_count": 313
    }
   ],
   "source": [
    "# Save to csv or Mongo\n",
    "results_df"
   ]
  },
  {
   "cell_type": "code",
   "execution_count": null,
   "metadata": {},
   "outputs": [],
   "source": []
  }
 ]
}